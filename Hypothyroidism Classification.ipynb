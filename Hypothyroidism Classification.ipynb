{
  "cells": [
    {
      "cell_type": "markdown",
      "metadata": {
        "id": "90F9k-YVFSJq"
      },
      "source": [
        "# **Assignment 6**"
      ]
    },
    {
      "cell_type": "markdown",
      "metadata": {
        "id": "NgnzjSIRIbCE"
      },
      "source": [
        "### **Brief Introduction**"
      ]
    },
    {
      "cell_type": "markdown",
      "metadata": {
        "id": "GUIe-ahQFehU"
      },
      "source": [
        "In this assignment you will study the Class Imbalance problem with the help of\n",
        "the Thyroid Disease Dataset.\n",
        "\n",
        "*   You are expected to know Class Priors and how to calculate them.\n",
        "*   You will be exploring various Splitting Methods on the data, observe how they affect performance with the help of various metrics and find the best parameters.\n",
        "*   You will also explore Oversampling methods and compare performance across 3 models.\n",
        "\n",
        "*   Please only fill in code where mentioned (TODO Blocks) without distrubing the rest of the code.\n",
        "\n",
        "*   Make necessary imports in the imports section.\n",
        "\n",
        "* All cells of the notebook should be run in order one final time before submission.\n",
        "\n",
        "\n",
        "\n"
      ]
    },
    {
      "cell_type": "markdown",
      "metadata": {
        "id": "FQEJw83D1x7Z"
      },
      "source": [
        "### **Imports**"
      ]
    },
    {
      "cell_type": "code",
      "execution_count": 1,
      "metadata": {
        "id": "PIlhutfCaHcK"
      },
      "outputs": [],
      "source": [
        "import pandas as pd\n",
        "import numpy as np\n",
        "import matplotlib.pyplot as plt\n",
        "%matplotlib inline\n",
        "from sklearn.metrics import accuracy_score, precision_score, recall_score, f1_score,  make_scorer\n",
        "from sklearn.model_selection import train_test_split, ShuffleSplit, StratifiedShuffleSplit, GridSearchCV\n",
        "from sklearn.tree import DecisionTreeClassifier\n",
        "from sklearn.linear_model import RidgeClassifier\n",
        "from sklearn.svm import SVC\n",
        "from imblearn.over_sampling import SMOTE, ADASYN,  RandomOverSampler\n",
        "from sklearn.preprocessing import MinMaxScaler"
      ]
    },
    {
      "cell_type": "markdown",
      "metadata": {
        "id": "0TfbNGjXJjEF"
      },
      "source": [
        "### **Data**"
      ]
    },
    {
      "cell_type": "markdown",
      "metadata": {
        "id": "IYqkFKMBJ3s9"
      },
      "source": [
        "#### Thyroid Disease Dataset\n",
        "\n",
        "\n",
        "\n",
        "\n",
        "\n",
        "*   30 columns\n",
        "*   3772 rows\n",
        "*'binaryClass' is your target which predicts the presence of Thyroid.\n",
        "* Observe the imbalance in your target class that may lead to skewed results.\n",
        "\n",
        "\n",
        "\n",
        "\tAttribute Name\t\t\tPossible Values\n",
        "\t--------------\t\t\t---------------\n",
        "\tage:\t\t\t\tcontinuous.\n",
        "\tsex:\t\t\t\tM, F.\n",
        "\ton thyroxine:\t\t\tf, t.\n",
        "\tquery on thyroxine:\t\tf, t.\n",
        "\ton antithyroid medication:\tf, t.\n",
        "\tsick:\t\t\t\tf, t.\n",
        "\tpregnant:\t\t\tf, t.\n",
        "\tthyroid surgery:\t\tf, t.\n",
        "\tI131 treatment:\t\t\tf, t.\n",
        "\tquery hypothyroid:\t\tf, t.\n",
        "\tquery hyperthyroid:\t\tf, t.\n",
        "\tlithium:\t\t\tf, t.\n",
        "\tgoitre:\t\t\t\tf, t.\n",
        "\ttumor:\t\t\t\tf, t.\n",
        "\thypopituitary:\t\t\tf, t.\n",
        "\tpsych:\t\t\t\tf, t.\n",
        "\tTSH measured:\t\t\tf, t.\n",
        "\tTSH:\t\t\t\tcontinuous.\n",
        "\tT3 measured:\t\t\tf, t.\n",
        "\tT3:\t\t\t\tcontinuous.\n",
        "\tTT4 measured:\t\t\tf, t.\n",
        "\tTT4:\t\t\t\tcontinuous.\n",
        "\tT4U measured:\t\t\tf, t.\n",
        "\tT4U:\t\t\t\tcontinuous.\n",
        "\tFTI measured:\t\t\tf, t.\n",
        "\tFTI:\t\t\t\tcontinuous.\n",
        "\tTBG measured:\t\t\tf, t.\n",
        "\tTBG:\t\t\t\tcontinuous.\n",
        "\treferral source:\t\tWEST, STMW, SVHC, SVI, SVHD, other.binaryClass:\t\t\tP, N.\n",
        "\n",
        "\n",
        "Some additional information on the dataset that might help:\n",
        "\n",
        "* age - age of the patient\n",
        "* sex - sex patient identifies\n",
        "* on_thyroxine - whether patient is on thyroxine\n",
        "* query on thyroxine - *whether patient is on thyroxine\n",
        "* on antithyroid meds - whether patient is on antithyroid meds\n",
        "* sick - whether patient is sick\n",
        "* pregnant - whether patient is pregnant\n",
        "* thyroid_surgery - whether patient has undergone thyroid surgery\n",
        "* I131_treatment - whether patient is undergoing I131 treatment\n",
        "* query_hypothyroid - whether patient believes they have hypothyroid\n",
        "* query_hyperthyroid - whether patient believes they have hyperthyroid\n",
        "* lithium - whether patient * lithium\n",
        "* goitre - whether patient has goitre\n",
        "* tumor - whether patient has tumor\n",
        "* hypopituitary - whether patient * hyperpituitary gland\n",
        "* psych - whether patient * psych\n",
        "* TSH_measured - whether TSH was measured in the blood\n",
        "* TSH - TSH level in blood from lab work\n",
        "* T3_measured - whether T3 was measured in the blood\n",
        "* T3 - T3 level in blood from lab work\n",
        "* TT4_measured - whether TT4 was measured in the blood\n",
        "* TT4 - TT4 level in blood from lab work\n",
        "* T4U_measured - whether T4U was measured in the blood (bool)\n",
        "* T4U - T4U level in blood from lab work (float)\n",
        "* FTI_measured - whether FTI was measured in the blood (bool)\n",
        "* FTI - FTI level in blood from lab work (float)\n",
        "* TBG_measured - whether TBG was measured in the blood (bool)\n",
        "* TBG - TBG level in blood from lab work\n",
        "* referral_source\n",
        "* binaryClass - hyperthyroidism medical diagnosis\n",
        "  \n",
        "\n",
        "\n"
      ]
    },
    {
      "cell_type": "markdown",
      "metadata": {
        "id": "_ohJ0tGJNQIu"
      },
      "source": [
        "#### Read Dataset"
      ]
    },
    {
      "cell_type": "code",
      "execution_count": 2,
      "metadata": {
        "id": "8VX9Orrjdl97"
      },
      "outputs": [],
      "source": [
        "df = pd.read_csv('hypothyroid.csv')"
      ]
    },
    {
      "cell_type": "code",
      "execution_count": 3,
      "metadata": {
        "id": "48QZQOvxeCnA"
      },
      "outputs": [
        {
          "data": {
            "text/html": [
              "<div>\n",
              "<style scoped>\n",
              "    .dataframe tbody tr th:only-of-type {\n",
              "        vertical-align: middle;\n",
              "    }\n",
              "\n",
              "    .dataframe tbody tr th {\n",
              "        vertical-align: top;\n",
              "    }\n",
              "\n",
              "    .dataframe thead th {\n",
              "        text-align: right;\n",
              "    }\n",
              "</style>\n",
              "<table border=\"1\" class=\"dataframe\">\n",
              "  <thead>\n",
              "    <tr style=\"text-align: right;\">\n",
              "      <th></th>\n",
              "      <th>age</th>\n",
              "      <th>sex</th>\n",
              "      <th>on thyroxine</th>\n",
              "      <th>query on thyroxine</th>\n",
              "      <th>on antithyroid medication</th>\n",
              "      <th>sick</th>\n",
              "      <th>pregnant</th>\n",
              "      <th>thyroid surgery</th>\n",
              "      <th>I131 treatment</th>\n",
              "      <th>query hypothyroid</th>\n",
              "      <th>...</th>\n",
              "      <th>TT4 measured</th>\n",
              "      <th>TT4</th>\n",
              "      <th>T4U measured</th>\n",
              "      <th>T4U</th>\n",
              "      <th>FTI measured</th>\n",
              "      <th>FTI</th>\n",
              "      <th>TBG measured</th>\n",
              "      <th>TBG</th>\n",
              "      <th>referral source</th>\n",
              "      <th>binaryClass</th>\n",
              "    </tr>\n",
              "  </thead>\n",
              "  <tbody>\n",
              "    <tr>\n",
              "      <th>0</th>\n",
              "      <td>41</td>\n",
              "      <td>F</td>\n",
              "      <td>f</td>\n",
              "      <td>f</td>\n",
              "      <td>f</td>\n",
              "      <td>f</td>\n",
              "      <td>f</td>\n",
              "      <td>f</td>\n",
              "      <td>f</td>\n",
              "      <td>f</td>\n",
              "      <td>...</td>\n",
              "      <td>t</td>\n",
              "      <td>125</td>\n",
              "      <td>t</td>\n",
              "      <td>1.14</td>\n",
              "      <td>t</td>\n",
              "      <td>109</td>\n",
              "      <td>f</td>\n",
              "      <td>?</td>\n",
              "      <td>SVHC</td>\n",
              "      <td>P</td>\n",
              "    </tr>\n",
              "    <tr>\n",
              "      <th>1</th>\n",
              "      <td>23</td>\n",
              "      <td>F</td>\n",
              "      <td>f</td>\n",
              "      <td>f</td>\n",
              "      <td>f</td>\n",
              "      <td>f</td>\n",
              "      <td>f</td>\n",
              "      <td>f</td>\n",
              "      <td>f</td>\n",
              "      <td>f</td>\n",
              "      <td>...</td>\n",
              "      <td>t</td>\n",
              "      <td>102</td>\n",
              "      <td>f</td>\n",
              "      <td>?</td>\n",
              "      <td>f</td>\n",
              "      <td>?</td>\n",
              "      <td>f</td>\n",
              "      <td>?</td>\n",
              "      <td>other</td>\n",
              "      <td>P</td>\n",
              "    </tr>\n",
              "    <tr>\n",
              "      <th>2</th>\n",
              "      <td>46</td>\n",
              "      <td>M</td>\n",
              "      <td>f</td>\n",
              "      <td>f</td>\n",
              "      <td>f</td>\n",
              "      <td>f</td>\n",
              "      <td>f</td>\n",
              "      <td>f</td>\n",
              "      <td>f</td>\n",
              "      <td>f</td>\n",
              "      <td>...</td>\n",
              "      <td>t</td>\n",
              "      <td>109</td>\n",
              "      <td>t</td>\n",
              "      <td>0.91</td>\n",
              "      <td>t</td>\n",
              "      <td>120</td>\n",
              "      <td>f</td>\n",
              "      <td>?</td>\n",
              "      <td>other</td>\n",
              "      <td>P</td>\n",
              "    </tr>\n",
              "    <tr>\n",
              "      <th>3</th>\n",
              "      <td>70</td>\n",
              "      <td>F</td>\n",
              "      <td>t</td>\n",
              "      <td>f</td>\n",
              "      <td>f</td>\n",
              "      <td>f</td>\n",
              "      <td>f</td>\n",
              "      <td>f</td>\n",
              "      <td>f</td>\n",
              "      <td>f</td>\n",
              "      <td>...</td>\n",
              "      <td>t</td>\n",
              "      <td>175</td>\n",
              "      <td>f</td>\n",
              "      <td>?</td>\n",
              "      <td>f</td>\n",
              "      <td>?</td>\n",
              "      <td>f</td>\n",
              "      <td>?</td>\n",
              "      <td>other</td>\n",
              "      <td>P</td>\n",
              "    </tr>\n",
              "    <tr>\n",
              "      <th>4</th>\n",
              "      <td>70</td>\n",
              "      <td>F</td>\n",
              "      <td>f</td>\n",
              "      <td>f</td>\n",
              "      <td>f</td>\n",
              "      <td>f</td>\n",
              "      <td>f</td>\n",
              "      <td>f</td>\n",
              "      <td>f</td>\n",
              "      <td>f</td>\n",
              "      <td>...</td>\n",
              "      <td>t</td>\n",
              "      <td>61</td>\n",
              "      <td>t</td>\n",
              "      <td>0.87</td>\n",
              "      <td>t</td>\n",
              "      <td>70</td>\n",
              "      <td>f</td>\n",
              "      <td>?</td>\n",
              "      <td>SVI</td>\n",
              "      <td>P</td>\n",
              "    </tr>\n",
              "    <tr>\n",
              "      <th>...</th>\n",
              "      <td>...</td>\n",
              "      <td>...</td>\n",
              "      <td>...</td>\n",
              "      <td>...</td>\n",
              "      <td>...</td>\n",
              "      <td>...</td>\n",
              "      <td>...</td>\n",
              "      <td>...</td>\n",
              "      <td>...</td>\n",
              "      <td>...</td>\n",
              "      <td>...</td>\n",
              "      <td>...</td>\n",
              "      <td>...</td>\n",
              "      <td>...</td>\n",
              "      <td>...</td>\n",
              "      <td>...</td>\n",
              "      <td>...</td>\n",
              "      <td>...</td>\n",
              "      <td>...</td>\n",
              "      <td>...</td>\n",
              "      <td>...</td>\n",
              "    </tr>\n",
              "    <tr>\n",
              "      <th>3767</th>\n",
              "      <td>30</td>\n",
              "      <td>F</td>\n",
              "      <td>f</td>\n",
              "      <td>f</td>\n",
              "      <td>f</td>\n",
              "      <td>f</td>\n",
              "      <td>f</td>\n",
              "      <td>f</td>\n",
              "      <td>f</td>\n",
              "      <td>f</td>\n",
              "      <td>...</td>\n",
              "      <td>f</td>\n",
              "      <td>?</td>\n",
              "      <td>f</td>\n",
              "      <td>?</td>\n",
              "      <td>f</td>\n",
              "      <td>?</td>\n",
              "      <td>f</td>\n",
              "      <td>?</td>\n",
              "      <td>other</td>\n",
              "      <td>P</td>\n",
              "    </tr>\n",
              "    <tr>\n",
              "      <th>3768</th>\n",
              "      <td>68</td>\n",
              "      <td>F</td>\n",
              "      <td>f</td>\n",
              "      <td>f</td>\n",
              "      <td>f</td>\n",
              "      <td>f</td>\n",
              "      <td>f</td>\n",
              "      <td>f</td>\n",
              "      <td>f</td>\n",
              "      <td>f</td>\n",
              "      <td>...</td>\n",
              "      <td>t</td>\n",
              "      <td>124</td>\n",
              "      <td>t</td>\n",
              "      <td>1.08</td>\n",
              "      <td>t</td>\n",
              "      <td>114</td>\n",
              "      <td>f</td>\n",
              "      <td>?</td>\n",
              "      <td>SVI</td>\n",
              "      <td>P</td>\n",
              "    </tr>\n",
              "    <tr>\n",
              "      <th>3769</th>\n",
              "      <td>74</td>\n",
              "      <td>F</td>\n",
              "      <td>f</td>\n",
              "      <td>f</td>\n",
              "      <td>f</td>\n",
              "      <td>f</td>\n",
              "      <td>f</td>\n",
              "      <td>f</td>\n",
              "      <td>f</td>\n",
              "      <td>f</td>\n",
              "      <td>...</td>\n",
              "      <td>t</td>\n",
              "      <td>112</td>\n",
              "      <td>t</td>\n",
              "      <td>1.07</td>\n",
              "      <td>t</td>\n",
              "      <td>105</td>\n",
              "      <td>f</td>\n",
              "      <td>?</td>\n",
              "      <td>other</td>\n",
              "      <td>P</td>\n",
              "    </tr>\n",
              "    <tr>\n",
              "      <th>3770</th>\n",
              "      <td>72</td>\n",
              "      <td>M</td>\n",
              "      <td>f</td>\n",
              "      <td>f</td>\n",
              "      <td>f</td>\n",
              "      <td>f</td>\n",
              "      <td>f</td>\n",
              "      <td>f</td>\n",
              "      <td>f</td>\n",
              "      <td>f</td>\n",
              "      <td>...</td>\n",
              "      <td>t</td>\n",
              "      <td>82</td>\n",
              "      <td>t</td>\n",
              "      <td>0.94</td>\n",
              "      <td>t</td>\n",
              "      <td>87</td>\n",
              "      <td>f</td>\n",
              "      <td>?</td>\n",
              "      <td>SVI</td>\n",
              "      <td>P</td>\n",
              "    </tr>\n",
              "    <tr>\n",
              "      <th>3771</th>\n",
              "      <td>64</td>\n",
              "      <td>F</td>\n",
              "      <td>f</td>\n",
              "      <td>f</td>\n",
              "      <td>f</td>\n",
              "      <td>f</td>\n",
              "      <td>f</td>\n",
              "      <td>f</td>\n",
              "      <td>f</td>\n",
              "      <td>f</td>\n",
              "      <td>...</td>\n",
              "      <td>t</td>\n",
              "      <td>99</td>\n",
              "      <td>t</td>\n",
              "      <td>1.07</td>\n",
              "      <td>t</td>\n",
              "      <td>92</td>\n",
              "      <td>f</td>\n",
              "      <td>?</td>\n",
              "      <td>other</td>\n",
              "      <td>P</td>\n",
              "    </tr>\n",
              "  </tbody>\n",
              "</table>\n",
              "<p>3772 rows × 30 columns</p>\n",
              "</div>"
            ],
            "text/plain": [
              "     age sex on thyroxine query on thyroxine on antithyroid medication sick  \\\n",
              "0     41   F            f                  f                         f    f   \n",
              "1     23   F            f                  f                         f    f   \n",
              "2     46   M            f                  f                         f    f   \n",
              "3     70   F            t                  f                         f    f   \n",
              "4     70   F            f                  f                         f    f   \n",
              "...   ..  ..          ...                ...                       ...  ...   \n",
              "3767  30   F            f                  f                         f    f   \n",
              "3768  68   F            f                  f                         f    f   \n",
              "3769  74   F            f                  f                         f    f   \n",
              "3770  72   M            f                  f                         f    f   \n",
              "3771  64   F            f                  f                         f    f   \n",
              "\n",
              "     pregnant thyroid surgery I131 treatment query hypothyroid  ...  \\\n",
              "0           f               f              f                 f  ...   \n",
              "1           f               f              f                 f  ...   \n",
              "2           f               f              f                 f  ...   \n",
              "3           f               f              f                 f  ...   \n",
              "4           f               f              f                 f  ...   \n",
              "...       ...             ...            ...               ...  ...   \n",
              "3767        f               f              f                 f  ...   \n",
              "3768        f               f              f                 f  ...   \n",
              "3769        f               f              f                 f  ...   \n",
              "3770        f               f              f                 f  ...   \n",
              "3771        f               f              f                 f  ...   \n",
              "\n",
              "     TT4 measured  TT4 T4U measured   T4U FTI measured  FTI TBG measured TBG  \\\n",
              "0               t  125            t  1.14            t  109            f   ?   \n",
              "1               t  102            f     ?            f    ?            f   ?   \n",
              "2               t  109            t  0.91            t  120            f   ?   \n",
              "3               t  175            f     ?            f    ?            f   ?   \n",
              "4               t   61            t  0.87            t   70            f   ?   \n",
              "...           ...  ...          ...   ...          ...  ...          ...  ..   \n",
              "3767            f    ?            f     ?            f    ?            f   ?   \n",
              "3768            t  124            t  1.08            t  114            f   ?   \n",
              "3769            t  112            t  1.07            t  105            f   ?   \n",
              "3770            t   82            t  0.94            t   87            f   ?   \n",
              "3771            t   99            t  1.07            t   92            f   ?   \n",
              "\n",
              "     referral source binaryClass  \n",
              "0               SVHC           P  \n",
              "1              other           P  \n",
              "2              other           P  \n",
              "3              other           P  \n",
              "4                SVI           P  \n",
              "...              ...         ...  \n",
              "3767           other           P  \n",
              "3768             SVI           P  \n",
              "3769           other           P  \n",
              "3770             SVI           P  \n",
              "3771           other           P  \n",
              "\n",
              "[3772 rows x 30 columns]"
            ]
          },
          "execution_count": 3,
          "metadata": {},
          "output_type": "execute_result"
        }
      ],
      "source": [
        "df"
      ]
    },
    {
      "cell_type": "markdown",
      "metadata": {
        "id": "XoPq2QnP16Ow"
      },
      "source": [
        "#### Data Cleaning and Preprocessing"
      ]
    },
    {
      "cell_type": "markdown",
      "metadata": {
        "id": "iQ9-BVX0klt5"
      },
      "source": [
        "We drop columns that are redundant. For eg. TT4 measured just keeps a track of whether TT4 was measures with a 1 or 0 flag. Given a TT4 value, we know it was measured, so we drop it"
      ]
    },
    {
      "cell_type": "code",
      "execution_count": 4,
      "metadata": {
        "id": "LEv1T4BcxUYU"
      },
      "outputs": [],
      "source": [
        "df.drop(['T3 measured','TSH measured','TT4 measured','T4U measured','FTI measured','TBG measured','TBG','referral source','on thyroxine','query on thyroxine','on antithyroid medication','query hypothyroid', 'query hyperthyroid','hypopituitary', 'psych'],axis=1,inplace=True)"
      ]
    },
    {
      "cell_type": "markdown",
      "metadata": {
        "id": "1yC8lbzjk5GL"
      },
      "source": [
        "Rename the labels to Target column"
      ]
    },
    {
      "cell_type": "code",
      "execution_count": 5,
      "metadata": {
        "id": "D7A4oNptu72w"
      },
      "outputs": [],
      "source": [
        "df.rename(columns={'binaryClass':'Target'}, inplace=True)"
      ]
    },
    {
      "cell_type": "code",
      "execution_count": 6,
      "metadata": {
        "id": "3fpADUbXxKdh"
      },
      "outputs": [],
      "source": [
        "df.replace('?',np.nan,inplace=True)"
      ]
    },
    {
      "cell_type": "markdown",
      "metadata": {
        "id": "WryTw590k-u4"
      },
      "source": [
        "* Check Null Values and handle them by filling the numerical columns with mean.\n",
        "* Drop remaining Null values\n",
        "* Convert P, N to 1,0\n",
        "* Convert categorical columns using one-hot encoding / dummy variables"
      ]
    },
    {
      "cell_type": "code",
      "execution_count": 7,
      "metadata": {
        "id": "chs9mFV-oYq4"
      },
      "outputs": [
        {
          "data": {
            "text/plain": [
              "age                  1\n",
              "sex                150\n",
              "sick                 0\n",
              "pregnant             0\n",
              "thyroid surgery      0\n",
              "I131 treatment       0\n",
              "lithium              0\n",
              "goitre               0\n",
              "tumor                0\n",
              "TSH                369\n",
              "T3                 769\n",
              "TT4                231\n",
              "T4U                387\n",
              "FTI                385\n",
              "Target               0\n",
              "dtype: int64"
            ]
          },
          "execution_count": 7,
          "metadata": {},
          "output_type": "execute_result"
        }
      ],
      "source": [
        "df.isnull().sum()"
      ]
    },
    {
      "cell_type": "code",
      "execution_count": 8,
      "metadata": {
        "id": "WG6sPuoroOlF"
      },
      "outputs": [],
      "source": [
        "cols = ['age','FTI','TSH','T3','TT4','T4U']\n",
        "for i in cols:\n",
        "    df[i] = pd.to_numeric(df[i])"
      ]
    },
    {
      "cell_type": "code",
      "execution_count": 9,
      "metadata": {
        "id": "63SswT3uoiHc"
      },
      "outputs": [],
      "source": [
        "miss_cols = ['FTI','TSH','T3','TT4','T4U']\n",
        "for i in miss_cols:\n",
        "    df[i] = df[i].fillna(df[i].mean())"
      ]
    },
    {
      "cell_type": "code",
      "execution_count": 10,
      "metadata": {
        "id": "41LZop3domSv"
      },
      "outputs": [],
      "source": [
        "df.dropna(inplace=True)"
      ]
    },
    {
      "cell_type": "code",
      "execution_count": 11,
      "metadata": {
        "id": "7wXi7I0SoqJt"
      },
      "outputs": [
        {
          "data": {
            "text/plain": [
              "age                0\n",
              "sex                0\n",
              "sick               0\n",
              "pregnant           0\n",
              "thyroid surgery    0\n",
              "I131 treatment     0\n",
              "lithium            0\n",
              "goitre             0\n",
              "tumor              0\n",
              "TSH                0\n",
              "T3                 0\n",
              "TT4                0\n",
              "T4U                0\n",
              "FTI                0\n",
              "Target             0\n",
              "dtype: int64"
            ]
          },
          "execution_count": 11,
          "metadata": {},
          "output_type": "execute_result"
        }
      ],
      "source": [
        "df.isnull().sum()"
      ]
    },
    {
      "cell_type": "code",
      "execution_count": 12,
      "metadata": {
        "id": "tYPXkpTMkKP1"
      },
      "outputs": [],
      "source": [
        "df = df.drop(1364)"
      ]
    },
    {
      "cell_type": "code",
      "execution_count": 13,
      "metadata": {
        "id": "UDXlrCyDtGH1"
      },
      "outputs": [],
      "source": [
        "df.TT4 = df.TT4.astype(int)\n",
        "df.FTI = df.FTI.astype(int)\n",
        "df.age = df.age.astype(int)"
      ]
    },
    {
      "cell_type": "code",
      "execution_count": 14,
      "metadata": {
        "id": "Xv0X5PO4Xq-A"
      },
      "outputs": [],
      "source": [
        "mapping = {'P': 1, 'N': 0}\n",
        "\n",
        "# Apply mapping to the target column\n",
        "df['Target'] = df['Target'].map(mapping)"
      ]
    },
    {
      "cell_type": "code",
      "execution_count": 15,
      "metadata": {
        "id": "vBC6oAQiWrke"
      },
      "outputs": [],
      "source": [
        "from sklearn.preprocessing import LabelEncoder\n",
        "\n",
        "cols = ['sex'\t,'sick','pregnant',\t'thyroid surgery'\t,'I131 treatment'\t,'lithium'\t,'goitre','tumor']\n",
        "\n",
        "df = pd.get_dummies(df, columns=cols, prefix=cols)"
      ]
    },
    {
      "cell_type": "code",
      "execution_count": 16,
      "metadata": {
        "id": "QeLrQd7NvsAZ"
      },
      "outputs": [],
      "source": [
        "# Initialize MinMaxScaler\n",
        "scaler = MinMaxScaler()\n",
        "\n",
        "# Fit scaler to the data and transform it\n",
        "to_scale = ['age','TSH','T3','TT4','T4U','FTI']\n",
        "\n",
        "# Initialize MinMaxScaler\n",
        "scaler = MinMaxScaler()\n",
        "\n",
        "# Fit scaler to the selected columns and transform them\n",
        "df[to_scale] = scaler.fit_transform(df[to_scale])"
      ]
    },
    {
      "cell_type": "code",
      "execution_count": 17,
      "metadata": {
        "id": "VXY6hdlvOLxz"
      },
      "outputs": [
        {
          "data": {
            "text/html": [
              "<div>\n",
              "<style scoped>\n",
              "    .dataframe tbody tr th:only-of-type {\n",
              "        vertical-align: middle;\n",
              "    }\n",
              "\n",
              "    .dataframe tbody tr th {\n",
              "        vertical-align: top;\n",
              "    }\n",
              "\n",
              "    .dataframe thead th {\n",
              "        text-align: right;\n",
              "    }\n",
              "</style>\n",
              "<table border=\"1\" class=\"dataframe\">\n",
              "  <thead>\n",
              "    <tr style=\"text-align: right;\">\n",
              "      <th></th>\n",
              "      <th>age</th>\n",
              "      <th>TSH</th>\n",
              "      <th>T3</th>\n",
              "      <th>TT4</th>\n",
              "      <th>T4U</th>\n",
              "      <th>FTI</th>\n",
              "      <th>Target</th>\n",
              "      <th>sex_F</th>\n",
              "      <th>sex_M</th>\n",
              "      <th>sick_f</th>\n",
              "      <th>...</th>\n",
              "      <th>thyroid surgery_f</th>\n",
              "      <th>thyroid surgery_t</th>\n",
              "      <th>I131 treatment_f</th>\n",
              "      <th>I131 treatment_t</th>\n",
              "      <th>lithium_f</th>\n",
              "      <th>lithium_t</th>\n",
              "      <th>goitre_f</th>\n",
              "      <th>goitre_t</th>\n",
              "      <th>tumor_f</th>\n",
              "      <th>tumor_t</th>\n",
              "    </tr>\n",
              "  </thead>\n",
              "  <tbody>\n",
              "    <tr>\n",
              "      <th>0</th>\n",
              "      <td>0.430108</td>\n",
              "      <td>0.002443</td>\n",
              "      <td>0.232227</td>\n",
              "      <td>0.287383</td>\n",
              "      <td>0.429952</td>\n",
              "      <td>0.272265</td>\n",
              "      <td>1</td>\n",
              "      <td>True</td>\n",
              "      <td>False</td>\n",
              "      <td>True</td>\n",
              "      <td>...</td>\n",
              "      <td>True</td>\n",
              "      <td>False</td>\n",
              "      <td>True</td>\n",
              "      <td>False</td>\n",
              "      <td>True</td>\n",
              "      <td>False</td>\n",
              "      <td>True</td>\n",
              "      <td>False</td>\n",
              "      <td>True</td>\n",
              "      <td>False</td>\n",
              "    </tr>\n",
              "    <tr>\n",
              "      <th>1</th>\n",
              "      <td>0.236559</td>\n",
              "      <td>0.007726</td>\n",
              "      <td>0.184834</td>\n",
              "      <td>0.233645</td>\n",
              "      <td>0.359903</td>\n",
              "      <td>0.274809</td>\n",
              "      <td>1</td>\n",
              "      <td>True</td>\n",
              "      <td>False</td>\n",
              "      <td>True</td>\n",
              "      <td>...</td>\n",
              "      <td>True</td>\n",
              "      <td>False</td>\n",
              "      <td>True</td>\n",
              "      <td>False</td>\n",
              "      <td>True</td>\n",
              "      <td>False</td>\n",
              "      <td>True</td>\n",
              "      <td>False</td>\n",
              "      <td>True</td>\n",
              "      <td>False</td>\n",
              "    </tr>\n",
              "    <tr>\n",
              "      <th>2</th>\n",
              "      <td>0.483871</td>\n",
              "      <td>0.001840</td>\n",
              "      <td>0.186114</td>\n",
              "      <td>0.250000</td>\n",
              "      <td>0.318841</td>\n",
              "      <td>0.300254</td>\n",
              "      <td>1</td>\n",
              "      <td>False</td>\n",
              "      <td>True</td>\n",
              "      <td>True</td>\n",
              "      <td>...</td>\n",
              "      <td>True</td>\n",
              "      <td>False</td>\n",
              "      <td>True</td>\n",
              "      <td>False</td>\n",
              "      <td>True</td>\n",
              "      <td>False</td>\n",
              "      <td>True</td>\n",
              "      <td>False</td>\n",
              "      <td>True</td>\n",
              "      <td>False</td>\n",
              "    </tr>\n",
              "    <tr>\n",
              "      <th>3</th>\n",
              "      <td>0.741935</td>\n",
              "      <td>0.000292</td>\n",
              "      <td>0.175355</td>\n",
              "      <td>0.404206</td>\n",
              "      <td>0.359903</td>\n",
              "      <td>0.274809</td>\n",
              "      <td>1</td>\n",
              "      <td>True</td>\n",
              "      <td>False</td>\n",
              "      <td>True</td>\n",
              "      <td>...</td>\n",
              "      <td>True</td>\n",
              "      <td>False</td>\n",
              "      <td>True</td>\n",
              "      <td>False</td>\n",
              "      <td>True</td>\n",
              "      <td>False</td>\n",
              "      <td>True</td>\n",
              "      <td>False</td>\n",
              "      <td>True</td>\n",
              "      <td>False</td>\n",
              "    </tr>\n",
              "    <tr>\n",
              "      <th>4</th>\n",
              "      <td>0.741935</td>\n",
              "      <td>0.001349</td>\n",
              "      <td>0.109005</td>\n",
              "      <td>0.137850</td>\n",
              "      <td>0.299517</td>\n",
              "      <td>0.173028</td>\n",
              "      <td>1</td>\n",
              "      <td>True</td>\n",
              "      <td>False</td>\n",
              "      <td>True</td>\n",
              "      <td>...</td>\n",
              "      <td>True</td>\n",
              "      <td>False</td>\n",
              "      <td>True</td>\n",
              "      <td>False</td>\n",
              "      <td>True</td>\n",
              "      <td>False</td>\n",
              "      <td>True</td>\n",
              "      <td>False</td>\n",
              "      <td>True</td>\n",
              "      <td>False</td>\n",
              "    </tr>\n",
              "    <tr>\n",
              "      <th>...</th>\n",
              "      <td>...</td>\n",
              "      <td>...</td>\n",
              "      <td>...</td>\n",
              "      <td>...</td>\n",
              "      <td>...</td>\n",
              "      <td>...</td>\n",
              "      <td>...</td>\n",
              "      <td>...</td>\n",
              "      <td>...</td>\n",
              "      <td>...</td>\n",
              "      <td>...</td>\n",
              "      <td>...</td>\n",
              "      <td>...</td>\n",
              "      <td>...</td>\n",
              "      <td>...</td>\n",
              "      <td>...</td>\n",
              "      <td>...</td>\n",
              "      <td>...</td>\n",
              "      <td>...</td>\n",
              "      <td>...</td>\n",
              "      <td>...</td>\n",
              "    </tr>\n",
              "    <tr>\n",
              "      <th>3767</th>\n",
              "      <td>0.311828</td>\n",
              "      <td>0.009588</td>\n",
              "      <td>0.186114</td>\n",
              "      <td>0.247664</td>\n",
              "      <td>0.359903</td>\n",
              "      <td>0.274809</td>\n",
              "      <td>1</td>\n",
              "      <td>True</td>\n",
              "      <td>False</td>\n",
              "      <td>True</td>\n",
              "      <td>...</td>\n",
              "      <td>True</td>\n",
              "      <td>False</td>\n",
              "      <td>True</td>\n",
              "      <td>False</td>\n",
              "      <td>True</td>\n",
              "      <td>False</td>\n",
              "      <td>True</td>\n",
              "      <td>False</td>\n",
              "      <td>False</td>\n",
              "      <td>True</td>\n",
              "    </tr>\n",
              "    <tr>\n",
              "      <th>3768</th>\n",
              "      <td>0.720430</td>\n",
              "      <td>0.001877</td>\n",
              "      <td>0.194313</td>\n",
              "      <td>0.285047</td>\n",
              "      <td>0.400966</td>\n",
              "      <td>0.284987</td>\n",
              "      <td>1</td>\n",
              "      <td>True</td>\n",
              "      <td>False</td>\n",
              "      <td>True</td>\n",
              "      <td>...</td>\n",
              "      <td>True</td>\n",
              "      <td>False</td>\n",
              "      <td>True</td>\n",
              "      <td>False</td>\n",
              "      <td>True</td>\n",
              "      <td>False</td>\n",
              "      <td>True</td>\n",
              "      <td>False</td>\n",
              "      <td>True</td>\n",
              "      <td>False</td>\n",
              "    </tr>\n",
              "    <tr>\n",
              "      <th>3769</th>\n",
              "      <td>0.784946</td>\n",
              "      <td>0.009613</td>\n",
              "      <td>0.165877</td>\n",
              "      <td>0.257009</td>\n",
              "      <td>0.396135</td>\n",
              "      <td>0.262087</td>\n",
              "      <td>1</td>\n",
              "      <td>True</td>\n",
              "      <td>False</td>\n",
              "      <td>True</td>\n",
              "      <td>...</td>\n",
              "      <td>True</td>\n",
              "      <td>False</td>\n",
              "      <td>True</td>\n",
              "      <td>False</td>\n",
              "      <td>True</td>\n",
              "      <td>False</td>\n",
              "      <td>True</td>\n",
              "      <td>False</td>\n",
              "      <td>True</td>\n",
              "      <td>False</td>\n",
              "    </tr>\n",
              "    <tr>\n",
              "      <th>3770</th>\n",
              "      <td>0.763441</td>\n",
              "      <td>0.001311</td>\n",
              "      <td>0.184834</td>\n",
              "      <td>0.186916</td>\n",
              "      <td>0.333333</td>\n",
              "      <td>0.216285</td>\n",
              "      <td>1</td>\n",
              "      <td>False</td>\n",
              "      <td>True</td>\n",
              "      <td>True</td>\n",
              "      <td>...</td>\n",
              "      <td>True</td>\n",
              "      <td>False</td>\n",
              "      <td>True</td>\n",
              "      <td>False</td>\n",
              "      <td>True</td>\n",
              "      <td>False</td>\n",
              "      <td>True</td>\n",
              "      <td>False</td>\n",
              "      <td>True</td>\n",
              "      <td>False</td>\n",
              "    </tr>\n",
              "    <tr>\n",
              "      <th>3771</th>\n",
              "      <td>0.677419</td>\n",
              "      <td>0.001877</td>\n",
              "      <td>0.203791</td>\n",
              "      <td>0.226636</td>\n",
              "      <td>0.396135</td>\n",
              "      <td>0.229008</td>\n",
              "      <td>1</td>\n",
              "      <td>True</td>\n",
              "      <td>False</td>\n",
              "      <td>True</td>\n",
              "      <td>...</td>\n",
              "      <td>True</td>\n",
              "      <td>False</td>\n",
              "      <td>True</td>\n",
              "      <td>False</td>\n",
              "      <td>True</td>\n",
              "      <td>False</td>\n",
              "      <td>True</td>\n",
              "      <td>False</td>\n",
              "      <td>True</td>\n",
              "      <td>False</td>\n",
              "    </tr>\n",
              "  </tbody>\n",
              "</table>\n",
              "<p>3620 rows × 23 columns</p>\n",
              "</div>"
            ],
            "text/plain": [
              "           age       TSH        T3       TT4       T4U       FTI  Target  \\\n",
              "0     0.430108  0.002443  0.232227  0.287383  0.429952  0.272265       1   \n",
              "1     0.236559  0.007726  0.184834  0.233645  0.359903  0.274809       1   \n",
              "2     0.483871  0.001840  0.186114  0.250000  0.318841  0.300254       1   \n",
              "3     0.741935  0.000292  0.175355  0.404206  0.359903  0.274809       1   \n",
              "4     0.741935  0.001349  0.109005  0.137850  0.299517  0.173028       1   \n",
              "...        ...       ...       ...       ...       ...       ...     ...   \n",
              "3767  0.311828  0.009588  0.186114  0.247664  0.359903  0.274809       1   \n",
              "3768  0.720430  0.001877  0.194313  0.285047  0.400966  0.284987       1   \n",
              "3769  0.784946  0.009613  0.165877  0.257009  0.396135  0.262087       1   \n",
              "3770  0.763441  0.001311  0.184834  0.186916  0.333333  0.216285       1   \n",
              "3771  0.677419  0.001877  0.203791  0.226636  0.396135  0.229008       1   \n",
              "\n",
              "      sex_F  sex_M  sick_f  ...  thyroid surgery_f  thyroid surgery_t  \\\n",
              "0      True  False    True  ...               True              False   \n",
              "1      True  False    True  ...               True              False   \n",
              "2     False   True    True  ...               True              False   \n",
              "3      True  False    True  ...               True              False   \n",
              "4      True  False    True  ...               True              False   \n",
              "...     ...    ...     ...  ...                ...                ...   \n",
              "3767   True  False    True  ...               True              False   \n",
              "3768   True  False    True  ...               True              False   \n",
              "3769   True  False    True  ...               True              False   \n",
              "3770  False   True    True  ...               True              False   \n",
              "3771   True  False    True  ...               True              False   \n",
              "\n",
              "      I131 treatment_f  I131 treatment_t  lithium_f  lithium_t  goitre_f  \\\n",
              "0                 True             False       True      False      True   \n",
              "1                 True             False       True      False      True   \n",
              "2                 True             False       True      False      True   \n",
              "3                 True             False       True      False      True   \n",
              "4                 True             False       True      False      True   \n",
              "...                ...               ...        ...        ...       ...   \n",
              "3767              True             False       True      False      True   \n",
              "3768              True             False       True      False      True   \n",
              "3769              True             False       True      False      True   \n",
              "3770              True             False       True      False      True   \n",
              "3771              True             False       True      False      True   \n",
              "\n",
              "      goitre_t  tumor_f  tumor_t  \n",
              "0        False     True    False  \n",
              "1        False     True    False  \n",
              "2        False     True    False  \n",
              "3        False     True    False  \n",
              "4        False     True    False  \n",
              "...        ...      ...      ...  \n",
              "3767     False    False     True  \n",
              "3768     False     True    False  \n",
              "3769     False     True    False  \n",
              "3770     False     True    False  \n",
              "3771     False     True    False  \n",
              "\n",
              "[3620 rows x 23 columns]"
            ]
          },
          "execution_count": 17,
          "metadata": {},
          "output_type": "execute_result"
        }
      ],
      "source": [
        "df"
      ]
    },
    {
      "cell_type": "markdown",
      "metadata": {
        "id": "ZFTQx9uC2a3V"
      },
      "source": [
        "### **Class Imbalance**"
      ]
    },
    {
      "cell_type": "markdown",
      "metadata": {
        "id": "CVM_o_JoOWcH"
      },
      "source": [
        "#### Observing the Imbalance"
      ]
    },
    {
      "cell_type": "code",
      "execution_count": 18,
      "metadata": {
        "id": "xB7vcXW8nIuV"
      },
      "outputs": [
        {
          "data": {
            "text/plain": [
              "Target\n",
              "1    3340\n",
              "0     280\n",
              "Name: count, dtype: int64"
            ]
          },
          "execution_count": 18,
          "metadata": {},
          "output_type": "execute_result"
        }
      ],
      "source": [
        "df['Target'].value_counts()"
      ]
    },
    {
      "cell_type": "code",
      "execution_count": 19,
      "metadata": {
        "colab": {
          "base_uri": "https://localhost:8080/",
          "height": 472
        },
        "id": "s3zARvzbptD9",
        "outputId": "0cfb6b1a-d885-4fe5-ae4a-e33052089b8b"
      },
      "outputs": [
        {
          "data": {
            "image/png": "[encoded data removed]",
            "text/plain": [
              "<Figure size 640x480 with 1 Axes>"
            ]
          },
          "metadata": {},
          "output_type": "display_data"
        }
      ],
      "source": [
        "plt.hist(df['Target'], bins=10)\n",
        "\n",
        "# Add labels and title\n",
        "plt.xlabel('Target')\n",
        "plt.ylabel('Frequency')\n",
        "plt.title('Histogram of Target')\n",
        "\n",
        "# Show the histogram\n",
        "plt.show()"
      ]
    },
    {
      "cell_type": "markdown",
      "metadata": {
        "id": "4c8alFNeNcpO"
      },
      "source": [
        "The numerical counts and the histogram both prove that there is a disparity between those that were diagnosed positively with thyroid as opposed to those who were diagnosed negatively. Creating distinct majority and minority classes.\n",
        "\n",
        "\n",
        "*   Class 1 - majority\n",
        "*   Class 0 - minority\n",
        "\n",
        "\n"
      ]
    },
    {
      "cell_type": "markdown",
      "metadata": {
        "id": "F0E-Ebne25a1"
      },
      "source": [
        "#### Class Priors"
      ]
    },
    {
      "cell_type": "markdown",
      "metadata": {
        "id": "Pp-LwMhr4JHU"
      },
      "source": [
        "![image.png](data:image/png;base64,iVBORw0KGgoAAAANSUhEUgAAAc0AAAEICAIAAACyAjhNAAAMQGlDQ1BJQ0MgUHJvZmlsZQAASImVVwdYU8kWnluSkEAIEEBASuhNEJESQEoILYD0ItgISYBQQgwEFTuyqOBaULGADV0VUeyA2BE7i2LvCyoKyrpYsCtvUkDXfeV75/vm3v/+c+Y/Z86dWwYA2kmuWJyNagCQI8qXxAT7M8YlJTNI3QABRoAGbIAbl5cnZkVFhQNog+e/27ub0BvaNQeZ1j/7/6tp8gV5PACQKIhT+Xm8HIgPAoBX8cSSfACIMt58ar5YhmED2hKYIMQLZThdgatkOFWB98p94mLYELcAoKLG5UrSAVC/AnlGAS8daqj3Qewk4gtFANAYEPvk5OTyIU6B2Ab6iCGW6TNTf9BJ/5tm6pAml5s+hBVzkZtKgDBPnM2d/n+W439bTrZ0MIYVbGoZkpAY2Zxh3W5n5YbJsBrEvaLUiEiItSD+IOTL/SFGKRnSkHiFP2rIy2PDmgFdiJ343IAwiA0hDhJlR4Qr+dQ0YRAHYrhC0GnCfE4cxHoQLxTkBcYqfTZJcmOUsdD6NAmbpeTPcyXyuLJYD6VZ8Syl/usMAUepj6kXZsQlQkyB2KJAmBABsTrEjnlZsWFKnzGFGeyIQR+JNEaWvwXEMQJRsL9CHytIkwTFKP1Lc/IG54ttyhByIpR4f35GXIiiPlgLjyvPH84FuyIQseIHdQR548IH58IXBAQq5o51C0TxsUqdD+J8/xjFWJwizo5S+uNmguxgGW8GsUteQaxyLJ6QDxekQh9PE+dHxSnyxAszuaFRinzwZSAcsEEAYAApbKkgF2QCYVtvQy+8UvQEAS6QgHQgAA5KZnBEorxHBI+xoBD8CZEA5A2N85f3CkAB5L8OsYqjA0iT9xbIR2SBpxDngDCQDa+l8lGioWgJ4AlkhP+IzoWNB/PNhk3W/+/5QfY7w4JMuJKRDkZk0AY9iYHEAGIIMYhoixvgPrgXHg6PfrA540zcY3Ae3/0JTwnthEeEG4QOwp3JwiLJT1mOBR1QP0hZi9Qfa4FbQU1X3B/3hupQGdfFDYAD7gLjsHBfGNkVsmxl3rKqMH7S/tsMfrgbSj+yExklDyP7kW1+Hqlup+46pCKr9Y/1UeSaOlRv9lDPz/HZP1SfD89hP3tiC7ED2DnsFHYBO4o1AAZ2AmvEWrFjMjy0up7IV9dgtBh5PllQR/iPeIN3VlbJPKdapx6nL4q+fME02TsasHPF0yXC9Ix8Bgt+EQQMjojnOILh7OTsAoDs+6J4fb2Jln83EN3W79z8PwDwPjEwMHDkOxd6AoB97vDxP/yds2HCT4cqAOcP86SSAgWHyw4E+JagwSdNHxgDc/j9cgDOwA14AT8QCEJBJIgDSWASzD4DrnMJmApmgnmgBJSBZWAVWAc2gi1gB9gN9oMGcBScAmfBJXAF3AD34OrpAi9AH3gHPiMIQkKoCB3RR0wQS8QecUaYiA8SiIQjMUgSkoKkIyJEisxE5iNlSDmyDtmM1CD7kMPIKeQC0o7cQTqRHuQ18gnFUDVUGzVCrdCRKBNloWFoHDoRTUenoIVoMboEXYNWo7vQevQUegm9gXagL9B+DGCqmC5mijlgTIyNRWLJWBomwWZjpVgFVo3VYU3wPl/DOrBe7CNOxOk4A3eAKzgEj8d5+BR8Nr4YX4fvwOvxFvwa3on34d8IVIIhwZ7gSeAQxhHSCVMJJYQKwjbCIcIZ+Cx1Ed4RiURdojXRHT6LScRM4gziYuJ64h7iSWI78TGxn0Qi6ZPsSd6kSBKXlE8qIa0l7SKdIF0ldZE+qKiqmKg4qwSpJKuIVIpUKlR2qhxXuaryTOUzWYNsSfYkR5L55OnkpeSt5CbyZXIX+TNFk2JN8abEUTIp8yhrKHWUM5T7lDeqqqpmqh6q0apC1bmqa1T3qp5X7VT9qKalZqfGVpugJlVborZd7aTaHbU3VCrViupHTabmU5dQa6inqQ+pH9Tp6o7qHHW++hz1SvV69avqL2lkmiWNRZtEK6RV0A7QLtN6NcgaVhpsDa7GbI1KjcMatzT6NemaozQjNXM0F2vu1Lyg2a1F0rLSCtTiaxVrbdE6rfWYjtHN6Ww6jz6fvpV+ht6lTdS21uZoZ2qXae/WbtPu09HScdFJ0JmmU6lzTKdDF9O10uXoZusu1d2ve1P30zCjYaxhgmGLhtUNuzrsvd5wPT89gV6p3h69G3qf9Bn6gfpZ+sv1G/QfGOAGdgbRBlMNNhicMegdrj3cazhveOnw/cPvGqKGdoYxhjMMtxi2GvYbGRsFG4mN1hqdNuo11jX2M840Xml83LjHhG7iYyI0WWlywuQ5Q4fBYmQz1jBaGH2mhqYhplLTzaZtpp/NrM3izYrM9pg9MKeYM83TzFeaN5v3WZhYjLWYaVFrcdeSbMm0zLBcbXnO8r2VtVWi1QKrBqtuaz1rjnWhda31fRuqja/NFJtqm+u2RFumbZbtetsrdqidq12GXaXdZXvU3s1eaL/evn0EYYTHCNGI6hG3HNQcWA4FDrUOnY66juGORY4Nji9HWoxMHrl85LmR35xcnbKdtjrdG6U1KnRU0aimUa+d7Zx5zpXO10dTRweNnjO6cfQrF3sXgcsGl9uudNexrgtcm12/urm7Sdzq3HrcLdxT3KvcbzG1mVHMxczzHgQPf485Hkc9Pnq6eeZ77vf8y8vBK8trp1f3GOsxgjFbxzz2NvPmem/27vBh+KT4bPLp8DX15fpW+z7yM/fj+23ze8ayZWWydrFe+jv5S/wP+b9ne7JnsU8GYAHBAaUBbYFagfGB6wIfBpkFpQfVBvUFuwbPCD4ZQggJC1kecotjxOFxajh9oe6hs0JbwtTCYsPWhT0KtwuXhDeNRceGjl0x9n6EZYQooiESRHIiV0Q+iLKOmhJ1JJoYHRVdGf00ZlTMzJhzsfTYybE7Y9/F+cctjbsXbxMvjW9OoCVMSKhJeJ8YkFie2DFu5LhZ4y4lGSQJkxqTSckJyduS+8cHjl81vmuC64SSCTcnWk+cNvHCJINJ2ZOOTaZN5k4+kEJISUzZmfKFG8mt5vanclKrUvt4bN5q3gu+H38lv0fgLSgXPEvzTitP6073Tl+R3pPhm1GR0StkC9cJX2WGZG7MfJ8VmbU9ayA7MXtPjkpOSs5hkZYoS9SSa5w7LbddbC8uEXdM8ZyyakqfJEyyLQ/Jm5jXmK8Nf+RbpTbSX6SdBT4FlQUfpiZMPTBNc5poWut0u+mLpj8rDCr8bQY+gzejeabpzHkzO2exZm2ejcxOnd08x3xO8ZyuucFzd8yjzMua93uRU1F50dv5ifObio2K5xY//iX4l9oS9RJJya0FXgs2LsQXChe2LRq9aO2ib6X80otlTmUVZV8W8xZf/HXUr2t+HViStqRtqdvSDcuIy0TLbi73Xb6jXLO8sPzxirEr6lcyVpaufLtq8qoLFS4VG1dTVktXd6wJX9O41mLtsrVf1mWsu1HpX7mnyrBqUdX79fz1Vzf4bajbaLSxbOOnTcJNtzcHb66vtqqu2ELcUrDl6daEred+Y/5Ws81gW9m2r9tF2zt2xOxoqXGvqdlpuHNpLVorre3ZNWHXld0BuxvrHOo279HdU7YX7JXufb4vZd/N/WH7mw8wD9QdtDxYdYh+qLQeqZ9e39eQ0dDRmNTYfjj0cHOTV9OhI45Hth81PVp5TOfY0uOU48XHB04Unug/KT7Zeyr91OPmyc33To87fb0luqXtTNiZ82eDzp4+xzp34rz3+aMXPC8cvsi82HDJ7VJ9q2vrod9dfz/U5tZWf9n9cuMVjytN7WPaj1/1vXrqWsC1s9c51y/diLjRfjP+5u1bE2513Obf7r6TfefV3YK7n+/NvU+4X/pA40HFQ8OH1X/Y/rGnw63jWGdAZ+uj2Ef3HvMev3iS9+RLV/FT6tOKZybParqdu4/2BPVceT7+edcL8YvPvSV/av5Z9dLm5cG//P5q7RvX1/VK8mrg9eI3+m+2v3V529wf1f/wXc67z+9LP+h/2PGR+fHcp8RPzz5P/UL6suar7demb2Hf7g/kDAyIuRKu/FcAgw1NSwPg9XYAqEkA0OH+jDJesf+TG6LYs8oR+E9YsUeUmxsAdfD/PboX/t3cAmDvVrj9gvq0CQBEUQGI8wDo6NFDbXCvJt9XyowI9wGbYr6m5qSCf2OKPecPef98BjJVF/Dz+V8JTnyZ4iUbbwAAADhlWElmTU0AKgAAAAgAAYdpAAQAAAABAAAAGgAAAAAAAqACAAQAAAABAAABzaADAAQAAAABAAABCAAAAACBJn68AAApLUlEQVR4Ae2dXYwlR3XHe5y1wbItMF82xAF/zF3MaEwEthU86wQi+cF3NlImklkh8rDOg+88RNEMihaINCKKNFKiWAkzDyia8QOsklhozcOgZO/w4CiOyI4dgfmIJ4PZOzYOODFgg0G2ZbAcJqeq+qO6u7q7urq6u273/8pa962uOnXOr+r+p7q6unrm6OjIwwcEQAAEQKA2ApfUZhmGQQAEQAAEGAHoLPoBCIAACNRLADpbL19YBwEQAAHoLPoACIAACNRLADpbL19YBwEQAAHoLPoACIAACNRLADpbL19YBwEQAAHoLPoACIAACNRLADpbL19YBwEQAAHoLPoACIAACNRLADpbL19YBwEQAAHoLPoACIAACNRLADpbL19YBwEQAAHoLPoACIAACNRLADpbL19YBwEQAAHoLPoACIAACNRLADpbL19YBwEQAAHoLPoACIAACNRLADpbL19YBwEQAAHoLPoACIAACNRLADpbL19YBwEQAAHoLPoACIAACNRLADpbL19YBwEQAAHoLPoACDRA4HDzxMzybgMVtVhFqRgLMxdmaDHS0lVDZ0sjQwEQKCDAJCL4nNg8LMhd7vTucmCZ/p9pnOXKPJldoZ7x7PIWzqQ9j1KmV3qhsxa6BkyAQESAZGFw7tTkSHwmp86dtqm0hxf3vYUNYX2y4a0O1Go63Do6urAyG3mldaRpXMuWaaa05+kUU9vtlYPOtsceNXeQwO7y4vZoHEnc7MqF6IuIVxrthjMJ6bR0SorW7MrayNs7mLATlP3E5q4YR5NVVjowLlkK05L5U7a9HOOiunBYHdTj2wjHxNJfAMmFeO50ZtlzYVGksH8Hq3ve9qIYx7OSkS12VqovHU7LKdDZlhsA1XeKABsRjpaGOTHtLg8O1sRYdzzaXuRScbh5enV+7I+At1jpdEqOSf/U3uqisMwt+IkkQIPQNqswUiNl/qxq5Mw5NkkGd5Z4IOPR3qo/kleFzOtRZc5ygP5gHU02FrwR40R/uoZLI297x5/xPjx/bm/h1Mmy4/esuuynQ2ftM4XF/hKYHOwVBE9XwYEODuYWvP2L/vRtqBlh+XRKeEocHG6ub8uqPhoHlsOMTICi5OGZjYW9c+eDCePoRJg/Osg2rmdTqisrZNJM32Epc+RBwZEktNyjtdLTJAUV2DwNnbVJE7ZAoJhAeK3MLoP5h8Zqk419dkEcXPymUyS7e6sDftHOB6opaZUyel5C92ePz8dOK74UG9e0KdeVDjlRs5w5cSrzKxNn/reIy2zuRUSmjaZOQGebIo16+kBAGmSpw6Vr7sX98D7WQpiJXRYf0YUx3dnyZx3TKUHm4D7YUTgyDs6k/s+GzNKHTWsUfIqNa9oM68oKWXYkzCwnFh3PnjzFhHYKZNaDzhY1Js6DQAkCfJAlTYKSyEQzomSHDQbnj/OJRKYPCctsWLcwN5BS0ynSyeJDVnx7PVjwsHv/qoVpzFyb/oyz50V1ZYesyFwYUjjRQjm50C7SZUH+lHihzfozQGfrZ4wa+kSAX/HTqJRf2c+wJV5n5YnD4Ra7GSUu+w/mR4JMeFk9Q2Ndnj2dYsiQ5kbH84E3bCSdXP1gYDfH5sLGeG6dRxctu1CGzKpVZc51h62B4PMawZ8uJrRUwnmZ9WboYiU3NJxslwC7t0t3kfNn4QIX05nTKUHeCv9nRmmFqIVfbAUnUBQEiAD9QVr0xpq/j/aIYTzbHvuoZhKu4AaIn8jGM8Ef7Sif9lHF4tr1ICMItEpgdye24qJVX/IqP5Z3EudaI0CXZuI6I1iDU86TisXLVYbcINASAS6z47zlyi05lqwW49kkETe+sxFu9LSL8Ck2SGVf/E8yH+VOFA8zy1lZnuCjkR5lXz7vBiN40XsCbDyhN6XWMirobMsNoFs9SWV0F4M0L1wcFD5UlGkpeOqGnqYJb/CSBeVjQtnpp1c9sRxpMncuWPeZWSVOgAAISASgsxIMZw8vCl0NbjzFHn8JV2tneh88dcNvzoplMdxC8DCOFz2Nk5vuP3Azu3KWHn/EBwRAQJsAdFYbVXsZt1dpAOkvumResAWJ/toguvAPnyoqdJAtfBSfrEd6NNMLa0IGEAABiQB0VoLh6iFtnRHbAYQ9kMO30+AbdrB/ys5RZT3So5nuKij4BQJuEoDOutkuSa+GW9IjmfEHcpJZdb7HLUSP7uiks62kks8x6dSJPCDQWwLQWVeaPti/g2YClAtn6TmjcFAbeyAnq0BuYDEL0Q02Lzud6zxbn3DaOzv2n2PKrQInQQAEfAJ4HgxdAQRAAATqJYDxbL18YR0EQAAEoLPoAyDgCoFXfvG6K67AD6sEoLNWccIYCJgSeHzyk8/uHJiWRjmnCWB/A6ebB871hMDTP3xp/YvfvuKN+D12s8Exnu1muyKqKSLw7AuvfPrzj7/2+q9efPk1+m+KPIermgSgs5qgkA0EaiFA8vqFh58KZ2affu6lWqqB0VYJYF1Xq/insHIacF195WVT6LjTLj/8zf/98mM/uObqy+ff8+alO97ttK9wrjwBzAeVZ9bvEo9PXtj9+v984g/mrnvbFf0mYTP6J/77Z8Pbfn3x9utsGoUtZwhg3sCZppgSR+hezZPP/vxP/u4/HvrqM1Pi8hS4SX+9bh28dQochYtGBKCzRth6XOjKyy+l6Pms4uFn/uGbdNBjGHZCp79bV1/5hmvefLkdc7DiHgHorHtt4rZH4eTs+2+4+lP33HLZMXShqg1GK2c/dPPbq1pBeYcJ4EficOM46dqlxy4hhf3kPfM/eP4VDGatNNFjTz5PSK2YghE3CUBn3WwXd72iy9u/vPfWD99yLf33pX9/xl1Hp8QzWr/xo5+9esv10NkpaTAjN6GzRthQyPPuufP6f3vih/QgE2BUIUB3wO543zuqWEBZ9wlAZ91vI0c9pIlaktoHH/meo/5NiVuPffeFD970lilxFm4aEoDOGoJDMSJA6z1/9OKrj37nx6BhRoAmuP/zez+9bfA2s+IoNS0EoLPT0lIu+kmLDT7+kRvosVHcEDNrnie+9+JN77wK28eY0ZuiUtDZKWosF12lucXfePsV468966Jzzvv0jad+8sGb8HiC8+1U2UHobGWEvTdw71030cIDbDRl0BEe/c7zd7wPK2cNyE1ZEejslDWYg+7SRgdY42XQLrQdIpXCNhEG6KauCHR26prMRYc//pEbscarbMNgMFuW2PTmh85Ob9s55DndySGp/cLDhw755LwrmJx1vomsOQidtYay54ZojdeLL72GNV6a3YA29n7quZduweO2mrymPBt0dsob0CX3R8PjD3xlgjVeOm3y9ckL77/hLdiFR4dVB/JAZzvQiK6EQA/p3/jOq7DGS6c9vvHUTz/0XjyeoIOqC3mgs11oRXdiuO/uwYOPPI01XoUtQhMsmDQopNSZDNDZzjSlE4HQbl40UUtS64Q3rjpBG3sTKGzs7Wr72PcLOmufac8t0sIDGqxhH6+cboCNvXPgdPIUdLaTzdpmUHRv5967Zh/4ysU2nXC7btrYG28Dc7uJLHsHnbUMFOaIwF0feNfLr76ONV7KzkC7er/48i9vvu5NyrNI7CQB6Gwnm7X9oOjF45/75yexxivdEjRpcCs2Qkxz6XQKdLbTzdtecDdeexWtD/3yo99vzwVHa6YVXdjY29G2qc0t6GxtaHtv+L67jz+Efbzi3QAbe8d59OUbdLYvLd18nPRim4/eeT02PZDJY2NvmUZ/jqGz/WnrFiL9/TveTe8ZxBqvEP1j333+t96LDWdDHn05gM72paVbiZPWeP3x7938uX96spXaHayUNja7bYAXKDjYMvW6BJ2tly+s04ttLrv0EtqdFiiIAK0sxsbePewJ0NkeNnrTIdMNMXpsAWu8muaO+pwhAJ11pim66wit8aJR7UNffaa7ISIyEMgjAJ3No4NztgjQpgc//vkvbFmDHRCYLgLQ2elqr2n1ltZ4fWJpTs/73eUTm82/AGd3eXlXz78KuXRDa8SZCnGgaEkC0NmSwJC9VgKHmydmdpYurMzWWovK+HBraWemToEvE1rtzqgIIK0+AtDZ+tjCckkCpESDg7WjrWHJcpayD7eO1g4G9Uht6dDqdMYSL5jRJzBzdHSknxs5QaA2AqWlqBZPdpdn1ucmlgfUpqHV4kwt2GA0nwDGs/l8cLYhAoebp1e9jTMtDWWjIIdnNrzV01bnh81Dq8GZKFIcNUgAOtsgbFSVSWD3/tW9hVMnK03L0ujPwkX/7MlTC3ur99u7J1YlNOvOZDYATtRKADpbK94eGyfVy/ik7+sfbq5ve1Vl1hZrpm3e9nrOkLbB0IqdsRU27NRJADpbJ90+26YbOUdH4xFHsLAxoS/sM9kgDVtMjDsPz5/b87z545VGs/ZYzx6f97y9c+cz15Y1GVqhM/bihqX6CEBn62MLyz4BaaQ6u3KWlNaLXZgLmV2YG7gCbDDHXMwR2sjR+kMr4UzkFo4cIwCddaxBOuXO4cV9ikfSIvrGB2iet70TzIAKmXVnOBu4mC+0jYUmeOU706lO08lgoLOdbFY3gvIHqvHbW0KgJAcnBzRp4Dk0nPU8Pob09g4mkpvxwwZDK3Ym7hq+OUgAOutgo3TFJa6g8dGs549evdGSv4QrpbvuRL9/MXOKtvnQcpxxhxg8ySAAnc0Ag+TKBHZ3tpOTBh5b5ESGF7RXytISf7ZsQVqj4N/tl1LKeSqvFshYB+bPbWQPaK2E5rtd5E+hM+XCR+42CEBn26DeizpTWsQkc5FJ74b8vJWYNlBOzzIFGnBdDtdZURIzQR+T8R2XtMX9YPXDxPSRhOqhiR5gyx9hDf+6SwA6627bTLdnXItoYcEgXEVLkskXeGk/1MrXT/GlYOL2Pwk1PRMrFogdaVvxMQqVZw4EJf2xdXnMFkLzPIv+lI8AJRomAJ1tGHhfqhNaNBr7qmgojozW7MoaW4VLik2bzAQaWRbj7jIbGI/GUnk+MZyYPdYyayM0m/5oOY1MrRKAzjaPX3cTUrueNbulqb/sSWNNrLidnjsNMFxiQksqabqTF3/eLDkpPLty4Sgc25ZgbSE0q/6UcB1Z2yIAnW2WPLta7Oj+qjJI5bInOUO5Y9pPhZ4ciJbclivt33wbrWnvauuvgVCuNbMQmpiw0PUnz5mSIJC9LQLQ2QbJk8h2dX/VOEV/8ZbWk7Q6t9P9mVSTW1/kmP4ANB6F8t6chdDM/NGCmQgAX10hAJ1trCXY9njzxpe+dtwcbo3nLe/6p3DM16Jwiawii5TkTxxIKYnDw82LS3ynBMOHosSKhjI6JUqohrM2QivpT7YzCU746i4B6GxDbWO+CalwkJYAZSz2LBdAA1ualtMij29Jlb1O63Dzfu/kUDyi5S9oPdxcztlNK8VDCHlqMExEM9bg+gPO+HNs3KyV0Mr5k+1MKlAkOEsAOluhafjyx3DZknyQ+gGzK1+Te9sVvMsoWveWpuwPCnsUQf8jhDb+UABDy/6u7C6f9s6weVWRiU3Rhkm6Nfj2VwdRqzDzO0tZb8jhI0hFa9kJzQ+F1k9o+ZPljG70yOcEgfi6G3wrTUC59R81bbQXoNgNMJZQuhZ23SxbLG8gKsH2JrRmLDLrL3SN9+rkwi4pu3TIPaL1BFGST1VOE5nYsoMoW+woF1FgULiXaYMZVPAJ6paDy7UROpYOTZzS9UfhTGgbB1NDwJsaT111VPxgYhro/yrDH2LWb61MSLkiUsYQ5eUuxzwuacB+duZSVY8sIeKtFbZd9VArhWbbmerhwIIJAcwbyEMUg2PV9Jl/Cz1YhyQm9VR3VQzqs1GETxAa3lSyUb/CBlu5FduUVpGnmSTWWvrbL2j4VCU0685o+IssNRCAzlaD6mto/JaJ0N7AsMiiXCQUZGn4/+LvgFtCyzcAz31bTDOQaCLd2zirvdJWxynz0GpwRsdh5LFOADpbDanqLoUvrMHWfw6uyxF3vON3nqpxsFCans+iRWcWX4Bo4BM9qLVvWWWZF2ah1eSMARYUqUoAOluJIH/UPXFn2l9UH1x7xge3WbXJSxdM12+xZ83oE93FplvzfBGElBKrP7XUKXa2hS/Drcncumn4lf0Vj5FIOyBUtigZKBtarc5IfuGwGQImk7oo4xNI3VDy74DJt3T8pOybPNxIVILlV2QuuMkjjIgu45eOktLm/HPJuz2B+wVdL23PZo8gJ+qtQO3seFR/rdqhNeGMGgNSayGA9QYVsEZKJglT8teaIWmiWiFschGeXU7w/aN0RWrCeV8nKWPBLzrXqYRRfAUBEKhIAPMGkkSWPKy8P571zfGsbCFYkgKygwAIFBGAzhYRyjzvr+jS2PpPbaKWzfEqbyGo9hWpIAACFQhAZ03hKVd0KYyJe/vp/VXF7TLdzfEUhtVJFbcQVBvVSZUfO8ZxHQR0WgF53CQAnTVsl6qrYquOhrPc9lc75C8l8NdApB6d8FcsFImEckVAxQksFC8kkNXkSHefAHTWrI18mdXY+i9jf1WxqrbMZn06jpbbQjBVO3/FQOHv3eQlBDrOIw8IdJUAdNaoZfVl1hM7+qVqKbc5Xqq4MkF7C0EHH51QBlR/Yol3CDX74p/6Q0cNDRKAzhrALrc/ntiWLzlBW3qzvkw/y28h6M9ZxB8WzrTf2RNslqTEO4SGW0s7dvYA7ixRBJZJoPgqETkiAv4C1RjN5GL/KHdwJEop8vnLWH1zigyBBb7HVsb62cCIVDxwU0qKLDm5X5fsXiPHDFEGnrz6tZYx5xnAuV4SmKGoY6qBLzUQYA9Rru7Rz9r0ha0ee4R2fW5i5aFQ7o23YcdYDbQaMMkQHKwZNYfFhmggUFThBgHMGzTRDuL5gfw1AE34wevgc8vW15M15r6Fiiq9Q6iBF/9YCBEm3CIAnW2mPapsQmrXQyazwR43di1PizW29C2x908Z19nMuhtb5ZbxGnlbJQCdbQi/+Sakdh0kkbG9v6pdB02s+fuSKdb9prcq44/hVZBZ/1VlDmyVa0IKZdohAJ1tjLvZJqR23evolqbDLbrN4N8PjO4Wsltd24uJJQJiRV5q5XApzHxJtFvbpJfyH5kbJwCdbRJ52U1IJd9ISqreBBM3f6pakXxy8VAaqfJLCM+LXeMLmU09CFcyEgdf/FMyAmRvlgB0tlneNKg9651WPrhasyPsddxnje6w1+yYJfOqRcGJF7V5npDZyu8QcvHFP5YwwkwtBI7VYhVGcwiQ1F7IOV3XqeHWhWFdth2w6w9U489e+Ps4RO7ZehBODGj5i39mI+s4AoEMAhjPZoBB8nQR4AoqTRow7/3Ra/CiNkq4uG81KkdW6lmNCcbqIACdrYMqbDZNQONFbcUu0QQ2W7IgrVHwFzJIKcJKxuZAxVUgRz8JQGfN2/0f//Vp88IoaZNASmaZZC5ue+xdP9KNPzFtoJyeZYpKz+wxp4IlW5TETNAH41aOAf8YE4DOGqPzHnwEOmtOz2ZJ8QahvdVBuIKWJJMv8JJENr9CvjTsSGwMwZZskVDTc87+s/jaVvLrwNneEoDO9rbpuxN45Re1hSjwgrUQBQ5sEoDO2qQJW20Q8Fd0abyoLesdQpLXeMGaBAOHtghAZ22RhJ2WCChXdJn7ovWCNX/hQtXnHcy9RMnpIgCdna72grdJAmUePdBZJqD1gjXfiWqP7yYjwffuEoDOdrdtexGZL7MaL2pjOPyJg2wymi9Ys/W8Q7YjONMpAtDZTjVn74IpJ7Oe+h1CITXdF6z5M8Lxh89CKzgAgSQB6GySCL5PD4FyL2pjcfmvZTuYSEGypbNsxwm2A8SZFXqOVmTa3tmNkqTsdKh6+CyeA99AQCYAnZVp4HhaCIhHt/wHC+jRgsX4c1zZYUQaGsvD1t5G72T0My1KSXJuPpxNPOMrn3988pOnf/iSnILjnhPA+8HMO8DJP3/4/F/cZV4eJdshwJ7z2o89J1bOD9L4wep8zsveSGc/u/Nff3Pf7de8+fJyppG7owQwnu1owyKsTAIV3yHEpoTzX/xz6+Ct9919/M8+/40f/ezVTC9wok8EoLN9am3EyglUeoeQ3ot/PnzLtR//yA2QWvQ4QQA6i57QQwLG7xAq8eKfuz7wrnvufM9n/v5br/zi9R4iRsgyAeisTAPH/SFg8A4hNjF7sFZiU5nF26/7nflrPv35xyG1/elYykihs0osSOwBgZLvEDJ78c8f/u6NH7r57SS1r73+qx4wRYhqAlhvoOaik4r1BjqUkIcIfHbn4MWXf7n2sd+87BhGNn3sEWj1PrY6Ym6YwCeW5q6+8g3rX/w2RrUNk3ekOuisIw0BNzpOgKT2smO/9tdfsvuGso5D60x40FmTpqSnfZ545kUqSf+KAxMrKNMzAp+8Z/611/+P5hB6FjfC9TA/a9IJdh79/gNfuShK3vG+d6x97P0mVlCmfwRo3oBmD2gOgYa3/Yu+vxFjPGvS9rRe5+orLxMlaTm6iQmU6SUBug/2qXtuefq5l/ASz161P3TWpLnp13LPnddTSRrM3njtVSYmUKavBK5447G/+qNbH3vyeUhtf7oAdNawrcWQFoNZQ3z9Liak9l++9dxDX32m3yT6Ej3mZ/vS0ojTNQK0ywxtgEB/qukJXTqmSVusrnWtjWz5A521RRJ2QKA0AZLXP33ga8PbrqOx7X13D2gaqrQJFJgGApg3mIZWgo8dJUAb1N571+yDjzxNgvvYd1/oaJQIy4POohOAQGsEnn3hle1ggeDjE+hsaw1Rd8XQ2boJwz4IZBK47m1X/O19t3/0t6+nge2LL7/25LM/z8yKE9NMAPOz09x68L1DBOjBwkuPXXLzdW/qUEwIxScAnUVXAAEQAIF6CWDeoF6+sA4CIAAC0Fn0ARAAARColwB0tl6+sA4CIAAC0Fn0ARAAARColwB0tl6+sA4CIAAC0Nn6+gC9HnVmeVfTfmHmwgyaFSGbowRYA5/YPHTUu7rdKtW9CzMXZqg7nKT9pnV2d3km+hj1KiOErFqD2qp7m+Rd+nva8yjFCEVpD1Agh0A9PSRq4nTVVRpdz9u82tP+hCl6xsPsdRykPY9SqnCr7mvDOnt4cd9b2Jgcsc9kw1sdGIifSdDDraOjCyuzJYu25a3sZtrzdIqcH8dNEqiph9TUxJremtWuabzW1kl7nk6p1YFM4w3rrOzH7MrayNs7mPhp7O9N8ImutqVUSmTfBqt73vYi5QwkWvo7Git3YnNXmPQLBiclk9FlPSXK+WU/xbHsbTqz0qYoGLoX+EvJUvbAq6zMLGs8j0hh/8ooWDVRPnZWqk8Yx7+1EsjvIWE3kJtJ7gnL5yPv5EaPCi7vJhudl2CJwSfsAZRo3J/l2q0bJ5eVNkXwYbBS55Wyh+Hx3OnMsufCoEhh/7b7Y2lRZwWIEMdgdX7Mx7lH49H2ouB8uHk6TD3aGnqzKxdoGLzgjVhOPj4lgov7/gCZlZNaYm918WCNWaSC4Yfyqypi55X5w4KJAzlzjk36i7CzxKMaj/ZWT4vZt93lgXDsiIcauazKnKg3/JpEMVwaeds7/mzw4flzewunTpYdv4fGcVCdQKKHKHsp69+e6L2TuXM0gEh+Yt3bWz9/UtH/rffn0Imcji1HF+bPOpAz59js8o+lRZ093Fzf9kZLTASZLozGgR4Oz2ws7J07798RCMVD1Yq84Jo/IcDKybkji2HRvIpIvQMPwvzRgeQtT4wy69mUgqJrmaCiwdyCt38xuPcR2pQyRx4UHElCG6NSUAynbREo6CGKXiq30+zKWRpAJD5yBm+4lZ750ut7Cav8a7a3Ye46jOvZlPp/R34sLejs3uqAX+bwv8NCcCYHsT/ls8fnRWPToG2ysc8mCTKugllBPongW4yZCTtMdJBVUZQjeaTwNpFF02YYFBUPr3jYxYzqI2dWnVelhX9meF/mf79U2ZBmmYBeD1H10kTPSftVNoNGtyn2NnQjUbsV45o25bo68WNpQWeD+2DSBT0b1kkfNqUefNj1sX/PLLrADk56rCCfRODX5uyfYKQYZokd5FQUyxd9UXgbneRHmjbDoORrQTYJovqEmVUns9JmT55i43nIbBagetL1eoiqlyZ6Ttq9shk0uk2xt6EbidqtGNe0GdbVlR9LCzobtmN0wP58ba8Hawd3719Nzi6yDAtzg6BEeKkdLxiczv5/PL+iouyimWdybYYzxlFd7E/6/HE+d8okUbKryCydVR+GKOg0F9pFGiOL2Rh1AaQ2TiDeQ6Lq5XQ2VSv3BZ5LzkAXQeHNobDRYxm8qI9FdVQ4qsN4rk1F/+/Kj8UNnaW5p6PxvD+fMMNuGYipqPCSgaWdFdOw7LYuv/jhvS5WMHN6IepssfxRRVEGg6Mcmwsb47l1PqexuD0ai6CGW+yGnZjoOJgfRRWqMkdnFUdxFJSBCS39DzKrgNVmUqyHSL10uMUXN7K+cNo7O5b6gu+tlGFm0eNTvPFGj1m21J9DUnUYz7Gp6v9d+bFg/9mwV3XigP4yLXrjgtmTTkSKIECgIoEGfyzQ2Ypt5VbxBnuOW4HDGxAoS6DJHwt0tmzruJy/yZ7jMgf4BgKFBBr9sUBnC9sDGUAABECgEgFH7oNVigGFQQAEQMBlAtBZl1sHvoEACHSBAHS2C62IGEAABFwmAJ11uXXgGwiAQBcIQGe70IqIAQRAwGUC0FmXWwe+gQAIdIEAdLYLrYgYQAAEXCYAnXW5deAbCIBAFwhAZ7vQiogBBEDAZQLQWZdbB76BAAh0gQB0tgutiBhAAARcJgCddbl14BsIgEAXCEBnu9CKiAEEQMBlAtBZl1sHvoEACHSBAHS2C62IGEAABFwmAJ11uXXgGwiAQBcIQGe70IqIAQRAwGUC0FmXWwe+gQAIdIEAdLYLrYgYQAAEXCYAnXW5deAbCIBAFwhAZ7vQiogBBEDAZQLQWZdbB76BAAh0gQB0tgutiBhAAARcJgCddbl14BsIgEAXCEBnu9CKiAEEQMBlAtBZl1sHvoEACHSBAHS2C62IGEAABFwmAJ11uXXgGwiAQBcIQGe70IqIAQRAwGUC0FmXWwe+gQAIdIEAdLYLrYgYQAAEXCYAnXW5deAbCIBAFwhAZ7vQiogBBEDAZQLQWZdbB76BAAh0gQB0tgutiBhAAARcJgCddbl14BsIgEAXCEBnu9CKiAEEQMBlAtBZl1sHvoEACHSBAHS2C62IGEAABFwmAJ11uXXgGwiAQBcIQGe70IqIAQRAwGUC0FmXWwe+gQAIdIEAdLYLrYgYQAAEXCbQks4ebp44sXlYAszucrn8smmqbHlXTnDkuDSELL/LwnEAiLXYBZOyBKiUAxCy2tNuOlDrEqixS1jS2d3lGdVHqY0UzczgYO3Cymzl/pSsNqhPTj+x6a2cnVufmalda+VaJRqBU7FoLUKI2dX6MmsfyNTEHgKqAUJou9YDoCa82hDK/NDq7BJH1j7jEcU/Gkf2eEIshc5R4sLGJMqkeTQeZZYS1cSrFhXF6mbZZO80Ky6ZjTsjVyO8k1OEb5nhlKyQZc+Bk2PNOpBWYhcBmhHg6JroFTmtYHYKqP22i/2k0781Sin9Q2NWEr9Xs0aSS3nyl0rHk42FpH88KeazcQz5PyRRkUyUKkqxMq5cn0u9ELL8yIeTVYr/zUtTys5ecKad2IVTpgSodAO9ogBc+dNATcyKIZg2rWm5nIa0NG9A013nz+15C3ODvEumw8317YWNM0NVHja+Fx/ldbaqSJRGA35S+b3V02LOl2ytz022kvUMz2wsbK+XmhaOqtA6qgSBE/AnNwQNAxJKN7PYZgKhq7L0LIsyMarP0diFg1kE6KwagjJYZWJEwOhIaVOZGJkHamJRCCFPbVj5bMFRd4mIv8lRjgaXOsX+BsgDSirMkuQhruIPkKiCn/AL03HCDM+jMWAJqsvJqnCyVJBFmRX2A6+CohkQRDaBi45VCAIL6f/nRCz+6meyVTjsm6cz8gVB4mvaB97aCbeZdY0OILIZxi48MSdA5Vn9Cc+Z1UTIia+iXiv/JiwnviqqoBxJh1lSv1AXQcj4oXGchYKjMK5ohxJJtuYNko7xSOK9IStwuWhWHur0il9CMk5RaU5GniHnPDPI3Mn6yMqTrNwvKlsX/sR+EpkBMnN+/oJa0hVnwylimwuECgtXwoN01WGKXBNLbCp24YA5gcBVud2ETfo3DDw8CE/ZPQjthwc59ilPuk8pkrL6kWk3Ey45groIAg9STUAumpGNJyu7RE675J2ypLPMdW9hgWZoo08ySJ4nmaiaZVH5m926Um6/A8U6oXSaDtU+xPMYfzOHEFSZ0erB6az/Z8HRMFcAhJ+ODWwzfGgtduFPBQJkIA9CMQERunxvV/TD+M80nStBsrgiv4CwZPJbC2rU6BdB1vT/20QdeVMIgWdIqQ0Z0As+s3jkQqkjO/OzuzvbdNGyduGCXHdqfjSS4Oho9/7VPW+0lJxKjTLoH+0un/bO8h/N3uogPb2ob8gwpzmEsMLZk6cWvP2LZRYWh2XTBxbZpo3HU5yLXbjXBIHDi/tU2d7BJCIye3yevswflxYuKnJF+Usd9Rh1xMkcQhNdIvIzPLKis7wTGYmleckwAnFAdw52lviS3OEW+1u0vWiqtGQp85Nn00You+fP0U/23HkrQlvZIc6U/eVc2lHcFpMboHJVZMxq7MK5ym7pEJhd4aOL2KhiuEXUYimqXBJBnYosxTTFqENg5g1rXjKs3OjAhs4W3vkTng3maFqhaLB2uLlZ/tEtunUory8YbrFrg+3F9O16TrlgUQT/jcjjcuk49tOJ87YA4XDz4vELa6P42IjVIm6NpsOJe1D4TcE2G4j45YuACUmu1NYZO0VFrvBPZQAEUtW7MiCUIVDIPi9DmYpqRp3nZrlzdaLWgaClNhRSKT/LIYjlllTE8FBMlcjzUxmGVDMjscKUIT6pFRnKmhUSk2upUrwqijMxQcNqS+WNKqlwFIsjz44CAksajScbI8aQfWEujkdx37MBMATKoGI+kV1FpgwglByvnUWkTPRP6GE1ij0AEYBRwjUnIAJL9QplsMpEpT/6iUqbykRmk07UiFrL6/ZR60FQdLYUQfWPwues+LloAVJmqnYfjEccynahY8qfCuchbOQYULauVFSW1LhX0k9IWb8SS5nEeHU5MQijaSdEGEFBP6ikzikB+G5mnvNtMbqB+VhkaV9ip4u/NBN7GKZC/cU5YwJUvDKEYkw2cjSKOsfhVlGXgZDVrkU/ilq6RDWdzWkO9SnGKakg6pyJ1MzWTeTL+2pceZ5Rg3NGfuQByDuX55+RI3kGi89VqTIY2SpqMSVApqp4pPDEnaTygbES/sUU+9Os/qFOEeryBETrmZbLafuGdda4W1doXT/6GuDlcM0/ZeBLHoC8c9mOGDiRbUz/jGm1k40Nae+MRH1mBMiIqTeJ+t38Wjo4NtQbjfikEZW1rLOlvbEA1aROkzKFrtq4D8b+9ml/6J7K2FucqX5PQ7tGlpFuNSx64/gt4FIG7GZuB4IcQ3tAzGJni/ZO2lj95wYE2Yv6jkujnhzsedveEv1OaOGU0QKirGBa6m+lCdTlZ+M6Sw1BwR+tHfh7EWQ1jMV0sRzBGZEVkTUNQebZNpCysVPnF4v21DeH5dD0j9uGoO9plZylUJO40jQ+W2NiV2ZbRV2CQI1+ztCIt0o7omwDBKj9B/Q4B33oUi5nbVkDrjReRRR7P+NvEDihpid92CJ0Nqrb7mFnqw82dLY+trAMAiAAAoxAG/MGIA8CIAACfSIAne1TayNWEACBNghAZ9ugjjpBAAT6RAA626fWRqwgAAJtEIDOtkEddYIACPSJAHS2T62NWEEABNogAJ1tgzrqBAEQ6BMB6GyfWhuxggAItEEAOtsGddQJAiDQJwLQ2T61NmIFARBogwB0tg3qqBMEQKBPBKCzfWptxAoCINAGAehsG9RRJwiAQJ8IQGf71NqIFQRAoA0C0Nk2qKNOEACBPhGAzvaptRErCIBAGwSgs21QR50gAAJ9IgCd7VNrI1YQAIE2CEBn26COOkEABPpE4P8BbBDUVhI0QzUAAAAASUVORK5CYII=)\n",
        "\n",
        "\n",
        "We are trying to calculate **P(c)** which is basically the relative frequency of each class within our Target Variable."
      ]
    },
    {
      "cell_type": "code",
      "execution_count": 20,
      "metadata": {
        "id": "V1MoEEaN2mN2"
      },
      "outputs": [
        {
          "name": "stdout",
          "output_type": "stream",
          "text": [
            "Class Prior:\n",
            "Target\n",
            "1    0.922652\n",
            "0    0.077348\n",
            "Name: proportion, dtype: float64\n"
          ]
        }
      ],
      "source": [
        "class_prior = df['Target'].value_counts(normalize=True)\n",
        "print(\"Class Prior:\")\n",
        "print(class_prior)"
      ]
    },
    {
      "cell_type": "markdown",
      "metadata": {
        "id": "9liA-C1aQ4Vq"
      },
      "source": [
        "#### Class Priors Classifier **(TODO)**"
      ]
    },
    {
      "cell_type": "markdown",
      "metadata": {
        "id": "N7lE1t4pOnYW"
      },
      "source": [
        "In the following cell you have to create your own Classifier which classifies on the basis of these class priors. During training, this class computes class prior probabilities. During prediction, it simply outputs the class with the class with highest prior probability.\n",
        "\n",
        "Create two methods similar to scikitlearn as follows:\n",
        "\n",
        "\n",
        "*   fit(X, y) - computes class probabilities\n",
        "*   predict(X) - returns the predicted value\n",
        "\n",
        "\n"
      ]
    },
    {
      "cell_type": "code",
      "execution_count": 21,
      "metadata": {
        "id": "gwv_C9OSqMp7"
      },
      "outputs": [],
      "source": [
        "class ClassPriorClassifier:\n",
        "    def __init__(self):\n",
        "        self.class_priors = None\n",
        "        self.classes = None\n",
        "\n",
        "    def fit(self, X, y):\n",
        "      \"\"\"\n",
        "      Input:\n",
        "      X : features as pandas dataframe\n",
        "      y : labels as pandas column\n",
        "\n",
        "      Output:\n",
        "      none: returns nothing, function is solely for computation purposes\n",
        "      \"\"\"\n",
        "\n",
        "      ##### TO DO ######\n",
        "\n",
        "      # Compute class prior probabilities during training #\n",
        "      class_counts = y.value_counts()\n",
        "      # Calculate the proportion of each class\n",
        "      self.class_priors = class_counts / len(y)\n",
        "      # Get the unique classes\n",
        "      self.classes = class_counts.index\n",
        "\n",
        "      ###### END #######\n",
        "\n",
        "\n",
        "\n",
        "    def predict(self, X):\n",
        "      \"\"\"\n",
        "      Input:\n",
        "      X : features as pandas dataframe\n",
        "\n",
        "      Output:\n",
        "      predictions: returns the predicted values\n",
        "      \"\"\"\n",
        "\n",
        "      ##### TO DO ######\n",
        "      \n",
        "      # Predict the class with the highest prior probability for each sample in X and save in a list '\"\"predictions\"\"\"#\n",
        "      highest_prior_class = self.class_priors.idxmax()\n",
        "      predictions = [highest_prior_class] * len(X)\n",
        "\n",
        "      ###### END #######\n",
        "\n",
        "      return predictions"
      ]
    },
    {
      "cell_type": "code",
      "execution_count": 22,
      "metadata": {
        "id": "DBBKcPO6s0D3"
      },
      "outputs": [],
      "source": [
        "X = df.drop('Target',axis=1)\n",
        "y= df['Target']"
      ]
    },
    {
      "cell_type": "markdown",
      "metadata": {
        "id": "zaKMtyLmRAZX"
      },
      "source": [
        "##### Class Priors Classifier Training"
      ]
    },
    {
      "cell_type": "code",
      "execution_count": 23,
      "metadata": {
        "id": "tWLz-LChOQLB"
      },
      "outputs": [],
      "source": [
        "# train test split\n",
        "X_train, X_test, y_train, y_test = train_test_split(X, y, test_size=0.3, random_state=42)"
      ]
    },
    {
      "cell_type": "code",
      "execution_count": 24,
      "metadata": {
        "id": "h-Y3fgenN5O4"
      },
      "outputs": [],
      "source": [
        "# Train classifier\n",
        "classifier = ClassPriorClassifier()\n",
        "classifier.fit(X_train, y_train)\n",
        "\n",
        "# Predict using the trained classifier\n",
        "predictions = classifier.predict(X_test)"
      ]
    },
    {
      "cell_type": "markdown",
      "metadata": {
        "id": "4nH8L1TcRnVk"
      },
      "source": [
        "##### Class Priors Classifier Evaluation"
      ]
    },
    {
      "cell_type": "markdown",
      "metadata": {
        "id": "m5foCQ1EQkif"
      },
      "source": [
        "The following function 'metrics' has the necessary evaluation metrics that will be used multiple times across this notebook."
      ]
    },
    {
      "cell_type": "code",
      "execution_count": 25,
      "metadata": {
        "id": "R5W7017oNR2B"
      },
      "outputs": [],
      "source": [
        "def metrics(predictions,y):\n",
        "  accuracy = accuracy_score(y, predictions)\n",
        "  print('Accuracy: ',accuracy)\n",
        "  precision = precision_score(y, predictions, average='weighted', labels=np.unique(predictions))\n",
        "  print('Precision: ',precision)\n",
        "  recall = recall_score(y, predictions, average='weighted', labels=np.unique(predictions))\n",
        "  print('Recall: ',recall)\n",
        "  f1 = f1_score(y, predictions, average='weighted', labels=np.unique(predictions))\n",
        "  print('F1-score: ', f1)"
      ]
    },
    {
      "cell_type": "code",
      "execution_count": 26,
      "metadata": {
        "id": "blfBntOgONmj"
      },
      "outputs": [
        {
          "name": "stdout",
          "output_type": "stream",
          "text": [
            "Accuracy:  0.9244935543278084\n",
            "Precision:  0.9244935543278084\n",
            "Recall:  1.0\n",
            "F1-score:  0.9607655502392345\n"
          ]
        }
      ],
      "source": [
        "# Model Evaluation on Test Set\n",
        "metrics(predictions,y_test)"
      ]
    },
    {
      "cell_type": "markdown",
      "metadata": {
        "id": "3Cc0iQX5Rx_A"
      },
      "source": [
        "###**Shuffle Split (TODO)**\n",
        "\n",
        "This class shuffles the data before splitting it into train and test sets, allowing for randomness in the selection process. By randomly sampling from the entire dataset, ShuffleSplit ensures that each split contains a representative distribution of classes, which can help models learn from and generalize to imbalanced datasets more effectively.\n",
        "1. ***You will use this function to split the data into 20 different train/test splits.***\n",
        "2. ***Next, you will compute the min, max and average class ratios for train and test split.***"
      ]
    },
    {
      "cell_type": "code",
      "execution_count": 27,
      "metadata": {
        "id": "OoqRbBe3Q_Va"
      },
      "outputs": [],
      "source": [
        "if isinstance(y, pd.DataFrame) or isinstance(y, pd.Series):\n",
        "    y = y.reset_index(drop=True)"
      ]
    },
    {
      "cell_type": "code",
      "execution_count": 28,
      "metadata": {
        "id": "maf1CmB7PVHn"
      },
      "outputs": [],
      "source": [
        "##### TO DO ######\n",
        "\n",
        "# Initialize shuffle split and Split data into 20 different train_test_splits#\n",
        "shuffle_split = ShuffleSplit(n_splits=20, test_size=0.3, random_state=42)\n",
        "\n",
        "###### END #######"
      ]
    },
    {
      "cell_type": "code",
      "execution_count": 29,
      "metadata": {
        "id": "TZdB6nmEPVyh"
      },
      "outputs": [
        {
          "data": {
            "text/plain": [
              "20"
            ]
          },
          "execution_count": 29,
          "metadata": {},
          "output_type": "execute_result"
        }
      ],
      "source": [
        "# Check your splits\n",
        "shuffle_split.get_n_splits(X)"
      ]
    },
    {
      "cell_type": "code",
      "execution_count": 30,
      "metadata": {
        "id": "0fuMhTHEP291"
      },
      "outputs": [
        {
          "name": "stdout",
          "output_type": "stream",
          "text": [
            "Train Split - Min Class Ratio: 0.07300710339384373\n",
            "Train Split - Max Class Ratio: 0.08129439621152329\n",
            "Train Split - Average Class Ratio: 0.07736779794790846\n",
            "Test Split - Min Class Ratio: 0.06813996316758748\n",
            "Test Split - Max Class Ratio: 0.08747697974217311\n",
            "Test Split - Average Class Ratio: 0.07730202578268877\n"
          ]
        }
      ],
      "source": [
        "##### TO DO ######\n",
        "\n",
        "## Compute the min, max and average class ratios for train and test split. ##\n",
        "# Lists to store ratios\n",
        "train_ratios = []\n",
        "test_ratios = []\n",
        "\n",
        "# Compute class ratios for each split\n",
        "for train_index, test_index in shuffle_split.split(X, y):\n",
        "    y_train, y_test = y[train_index], y[test_index]\n",
        "    train_ratio = y_train.value_counts(normalize=True).min()\n",
        "    test_ratio = y_test.value_counts(normalize=True).min()\n",
        "    train_ratios.append(train_ratio)\n",
        "    test_ratios.append(test_ratio)\n",
        "\n",
        "# Calculate min, max and average class ratios for train and test split\n",
        "min_train_ratio = min(train_ratios)\n",
        "max_train_ratio = max(train_ratios)\n",
        "avg_train_ratio = np.mean(train_ratios)\n",
        "\n",
        "min_test_ratio = min(test_ratios)\n",
        "max_test_ratio = max(test_ratios)\n",
        "avg_test_ratio = np.mean(test_ratios)\n",
        "\n",
        "###### END #######\n",
        "\n",
        "# Print the results\n",
        "print(\"Train Split - Min Class Ratio:\", min_train_ratio)\n",
        "print(\"Train Split - Max Class Ratio:\", max_train_ratio)\n",
        "print(\"Train Split - Average Class Ratio:\", avg_train_ratio)\n",
        "\n",
        "print(\"Test Split - Min Class Ratio:\", min_test_ratio)\n",
        "print(\"Test Split - Max Class Ratio:\", max_test_ratio)\n",
        "print(\"Test Split - Average Class Ratio:\", avg_test_ratio)"
      ]
    },
    {
      "cell_type": "markdown",
      "metadata": {
        "id": "7CTGCN4-Qt11"
      },
      "source": [
        "### **Stratified Shuffle Split**\n",
        "\n",
        "In this section you will explore the effects of StratifiedShuffleSplit on various model performances\n",
        "1. Ridge Classifier\n",
        "1. Decision Tree Classifier\n",
        "3. Support Vector Classifier\n",
        "\n",
        "Note: please remember to give distinct model names to all as you will be reusing them further in the notebook.\n",
        "\n",
        "\n",
        "***In the following cell you will generate one train/test split using StratifiedShuffleSplit.***"
      ]
    },
    {
      "cell_type": "markdown",
      "metadata": {
        "id": "HkgfffqjWieC"
      },
      "source": [
        "#### **Splitting the data**"
      ]
    },
    {
      "cell_type": "code",
      "execution_count": 31,
      "metadata": {
        "id": "T-3Z2ED8UWhQ"
      },
      "outputs": [],
      "source": [
        "##### TO DO ######\n",
        "\n",
        "# Initialize StratifiedShuffleSplit with 1 split #\n",
        "strat_shuffle_split = StratifiedShuffleSplit(n_splits=1, test_size=0.3, random_state=42)\n",
        "\n",
        "## Split and Store train and test sets in X_train_strat, y_train_stat, x_test_stat, y_test_stat\n",
        "for train_index, test_index in strat_shuffle_split.split(X, y):\n",
        "    X_train_strat, X_test_strat = X.iloc[train_index], X.iloc[test_index]\n",
        "    y_train_strat, y_test_strat = y[train_index], y[test_index]\n",
        "\n",
        "###### END #######"
      ]
    },
    {
      "cell_type": "code",
      "execution_count": 32,
      "metadata": {
        "id": "NmmkVUq0SP8i"
      },
      "outputs": [
        {
          "name": "stdout",
          "output_type": "stream",
          "text": [
            "Train set shape: (2534, 22) (2534,)\n",
            "Test set shape: (1086, 22) (1086,)\n",
            "Train set - Unique values and counts: (array([0, 1], dtype=int64), array([ 196, 2338], dtype=int64))\n",
            "Test set - Unique values and counts: (array([0, 1], dtype=int64), array([  84, 1002], dtype=int64))\n"
          ]
        }
      ],
      "source": [
        "# Print the shapes of the train and test sets\n",
        "print(\"Train set shape:\", X_train_strat.shape, y_train_strat.shape)\n",
        "print(\"Test set shape:\", X_test_strat.shape, y_test_strat.shape)\n",
        "\n",
        "# Print the unique values and their counts in the target variable y for both train and test sets\n",
        "print(\"Train set - Unique values and counts:\", np.unique(y_train, return_counts=True))\n",
        "print(\"Test set - Unique values and counts:\", np.unique(y_test, return_counts=True))"
      ]
    },
    {
      "cell_type": "markdown",
      "metadata": {
        "id": "UJ54Ewh6WpkL"
      },
      "source": [
        "#### **QUESTION (TODO)**"
      ]
    },
    {
      "cell_type": "markdown",
      "metadata": {
        "id": "vS-WPfZ3VmrF"
      },
      "source": [
        "**Question:**  *Why is StratifiedShuffleSplit better than ShuffleSplit?*\n",
        "\n",
        "\n",
        "**Your Answer:**\n",
        "\n",
        "\n",
        "Maintained Class Proportions: The StratifiedShuffleSplit ensures that the proportion of each class in the splits matches the proportion in the full dataset. This is critical for your thyroid disease dataset, which is inherently imbalanced. And the results showed that both the training and testing sets maintained the imbalance ratio present in the original dataset, which is essential for developing a model that accurately reflects the real-world distribution of the disease.\n",
        "\n",
        "Improved Model Reliability and Fairness: By preserving the class distribution in each split, models trained using StratifiedShuffleSplit are more likely to be fair and reliable, particularly for the minority class. This is because the models have a chance to learn from a representative sample of each class, thereby improving their ability to generalize from the training data to unseen data.\n",
        "\n",
        "Accurate Model Evaluation: The consistent representation of classes in both training and testing sets means that model evaluation metrics (such as accuracy, precision, recall, and F1-score) are more reflective of true performance. This is particularly important for imbalanced datasets, where traditional splits might overestimate the model's performance by biasing the evaluation towards the majority class.\n",
        "\n",
        "Reduction in Evaluation Variance: StratifiedShuffleSplit leads to more consistent training and testing sets across different splits compared to ShuffleSplit. This consistency is crucial for reducing variance in model evaluation, ensuring that the performance metrics are stable and reliable across multiple runs. And the results highlighted how StratifiedShuffleSplit can provide consistent class ratios across splits, which is not guaranteed with ShuffleSplit.\n",
        "\n",
        "Thus, we can conclude that StratifiedShuffleSplit offers a strategic advantage in dealing with the class imbalance problem present in the Thyroid Disease dataset. By ensuring that each split reflects the overall class distribution, it aids in developing more accurate, reliable, and fair predictive models."
      ]
    },
    {
      "cell_type": "markdown",
      "metadata": {
        "id": "JiecNW5pTqMe"
      },
      "source": [
        "#### **Training, Testing and Evaluation (TODO)**"
      ]
    },
    {
      "cell_type": "markdown",
      "metadata": {
        "id": "xBhUDDpLXE8y"
      },
      "source": [
        "You have to make changes in the following function that will train the data on the given model and give evaluation metrics for comparison. This function will be used further in the notebook."
      ]
    },
    {
      "cell_type": "code",
      "execution_count": 33,
      "metadata": {
        "id": "X5VHMBc2sSG4"
      },
      "outputs": [],
      "source": [
        "def TrainAndEvaluate(model,model_name, X_train, y_train, X_test, y_test):\n",
        "  \"\"\"\n",
        "  Inputs:\n",
        "  model: the classifier that you want to train\n",
        "  model_name: name of the model as a string\n",
        "  X_train, y_train, X_test, y_test: the training and testing data\n",
        "\n",
        "  Returns nothing, only prints\n",
        "  \"\"\"\n",
        "\n",
        "  ##### TO DO ######\n",
        "  \n",
        "  # fit the model\n",
        "  model.fit(X_train, y_train)\n",
        "\n",
        "  ###### END #######\n",
        "\n",
        "  print(\"Model Training Complete!\")\n",
        "\n",
        "  print(\"-----------------------------------\")\n",
        "\n",
        "\n",
        "  print(model_name,\"Evaluation Metrics\")\n",
        "  print(\"-----------------------------------\")\n",
        "\n",
        "  print(\"Training Set: \")\n",
        "  \n",
        "  ##### TO DO ######\n",
        "\n",
        "  # Make predictions on the training set and evaluate using the 'metrics' function defined earlier in the notebook\n",
        "  train_predictions = model.predict(X_train)\n",
        "  print(\"Evaluation on Training Set:\")\n",
        "  metrics(train_predictions, y_train)\n",
        "  \n",
        "  ###### END #######\n",
        "\n",
        "  print(\"-----------------------------------\")\n",
        "\n",
        "  print(\"Testing Set: \")\n",
        "  \n",
        "  ##### TO DO ######\n",
        "\n",
        "  # Make predictions on the test set and evaluate using the 'metrics' function\n",
        "  # Make predictions on the test set\n",
        "  test_predictions = model.predict(X_test)\n",
        "    \n",
        "  # Evaluate using the 'metrics' function\n",
        "  print(\"Evaluation on Testing Set:\")\n",
        "  metrics(test_predictions, y_test)\n",
        "  \n",
        "  ###### END #######"
      ]
    },
    {
      "cell_type": "markdown",
      "metadata": {
        "id": "8aXKQh3USpH1"
      },
      "source": [
        "##### **Ridge (TODO)**\n",
        "\n",
        "1. Initialize the Ridge classifier with `class_weights=None`\n",
        "2. Train and Evaluate the model using the TrainAndEvaluate function\n",
        "\n",
        "**Be sure to use the StratifiedShuffleSplit Data (X_train_strat, y_train_strat, X_test_strat, y_test_strat).**\n",
        "\n"
      ]
    },
    {
      "cell_type": "code",
      "execution_count": 34,
      "metadata": {
        "id": "i-7iGhCfY_I0"
      },
      "outputs": [
        {
          "name": "stdout",
          "output_type": "stream",
          "text": [
            "Model Training Complete!\n",
            "-----------------------------------\n",
            "Ridge Classifier Evaluation Metrics\n",
            "-----------------------------------\n",
            "Training Set: \n",
            "Evaluation on Training Set:\n",
            "Accuracy:  0.9325177584846093\n",
            "Precision:  0.9371169865831074\n",
            "Recall:  0.9325177584846093\n",
            "F1-score:  0.9076007471589568\n",
            "-----------------------------------\n",
            "Testing Set: \n",
            "Evaluation on Testing Set:\n",
            "Accuracy:  0.929097605893186\n",
            "Precision:  0.921565650076507\n",
            "Recall:  0.929097605893186\n",
            "F1-score:  0.903102157514354\n"
          ]
        }
      ],
      "source": [
        "##### TO DO ######\n",
        "\n",
        "#Initialize RFC\n",
        "ridge_classifier = RidgeClassifier(class_weight=None)\n",
        "\n",
        "#use the TrainAndEvaluate function for Training and Evaluation\n",
        "TrainAndEvaluate(ridge_classifier, \"Ridge Classifier\", X_train_strat, y_train_strat, X_test_strat, y_test_strat)\n",
        "\n",
        "###### END #######"
      ]
    },
    {
      "cell_type": "markdown",
      "metadata": {
        "id": "qvjSl6JYZn-w"
      },
      "source": [
        "##### **Decision Tree (TODO)**\n",
        "\n",
        "1. Initialize the Decision Tree Classifier with `class_weights=None`\n",
        "2. Train and Evaluate the model using the TrainAndEvaluate function\n",
        "\n",
        "Be sure to use the StratifiedShuffleSplit Data for the same.\n"
      ]
    },
    {
      "cell_type": "code",
      "execution_count": 35,
      "metadata": {
        "id": "9XGcpdgIb8TD"
      },
      "outputs": [
        {
          "name": "stdout",
          "output_type": "stream",
          "text": [
            "Model Training Complete!\n",
            "-----------------------------------\n",
            "Decision Tree Classifier Evaluation Metrics\n",
            "-----------------------------------\n",
            "Training Set: \n",
            "Evaluation on Training Set:\n",
            "Accuracy:  1.0\n",
            "Precision:  1.0\n",
            "Recall:  1.0\n",
            "F1-score:  1.0\n",
            "-----------------------------------\n",
            "Testing Set: \n",
            "Evaluation on Testing Set:\n",
            "Accuracy:  0.9668508287292817\n",
            "Precision:  0.9694793236229702\n",
            "Recall:  0.9668508287292817\n",
            "F1-score:  0.9678559542035545\n"
          ]
        }
      ],
      "source": [
        "##### TO DO ######\n",
        "\n",
        "#Initialize DTC\n",
        "decision_tree_classifier = DecisionTreeClassifier(class_weight=None)\n",
        "\n",
        "#use the TrainAndEvaluate function for Training and Evaluation\n",
        "TrainAndEvaluate(decision_tree_classifier, \"Decision Tree Classifier\", X_train_strat, y_train_strat, X_test_strat, y_test_strat)\n",
        "\n",
        "###### END #######"
      ]
    },
    {
      "cell_type": "markdown",
      "metadata": {
        "id": "c7_2F7w8Z83L"
      },
      "source": [
        "##### **SVC (TODO)**\n",
        "\n",
        "1. Initialize SVC with `class_weights=None`\n",
        "2. Train and Evaluate the model using the TrainAndEvaluate function\n",
        "\n",
        "Be sure to use the StratifiedShuffleSplit Data for the same.\n"
      ]
    },
    {
      "cell_type": "code",
      "execution_count": 36,
      "metadata": {
        "id": "hurBumyAdYO3"
      },
      "outputs": [
        {
          "name": "stdout",
          "output_type": "stream",
          "text": [
            "Model Training Complete!\n",
            "-----------------------------------\n",
            "SVC Evaluation Metrics\n",
            "-----------------------------------\n",
            "Training Set: \n",
            "Evaluation on Training Set:\n",
            "Accuracy:  0.9293606945540647\n",
            "Precision:  0.9343843082508554\n",
            "Recall:  0.9293606945540647\n",
            "F1-score:  0.9009811282570254\n",
            "-----------------------------------\n",
            "Testing Set: \n",
            "Evaluation on Testing Set:\n",
            "Accuracy:  0.927255985267035\n",
            "Precision:  0.9325721528562156\n",
            "Recall:  0.927255985267035\n",
            "F1-score:  0.8963501675321748\n"
          ]
        }
      ],
      "source": [
        "##### TO DO ######\n",
        "\n",
        "#Initialize SVC\n",
        "svc_classifier = SVC(class_weight=None)\n",
        "\n",
        "#use the TrainAndEvaluate function for Training and Evaluation\n",
        "TrainAndEvaluate(svc_classifier, \"SVC\", X_train_strat, y_train_strat, X_test_strat, y_test_strat)\n",
        "\n",
        "###### END #######"
      ]
    },
    {
      "cell_type": "markdown",
      "metadata": {
        "id": "MxvOgfcieMJC"
      },
      "source": [
        "#### **Hyperparameter Tuning (TODO)**\n",
        "\n",
        "Next, you have to tune the hyperparamater `class_weight` to find the best f-score for each of these classifiers.\n",
        "\n",
        "Make necessary changes in the CrossValidate function\n",
        "\n"
      ]
    },
    {
      "cell_type": "code",
      "execution_count": 37,
      "metadata": {
        "id": "HdVVr7Bfhhwn"
      },
      "outputs": [],
      "source": [
        "def CrossValidate(model, param_grid):\n",
        "\n",
        "    ##### TO DO ######\n",
        "\n",
        "    # Perform grid search with cross-validation and refit the best estimator\n",
        "    # keep 'refit' = True, scoring = F1 since we are observing the f score\n",
        "    # Initialize GridSearchCV\n",
        "    grid_search = GridSearchCV(estimator=model, param_grid=param_grid, scoring='f1_weighted', refit=True, cv=5, verbose=1)\n",
        "    \n",
        "    # Fit GridSearchCV\n",
        "    grid_search.fit(X_train, y_train)\n",
        "\n",
        "    # The best estimator after the grid search\n",
        "    best_model = grid_search.best_estimator_\n",
        "    \n",
        "    ###### END #######\n",
        "\n",
        "\n",
        "\n",
        "    print(\"Training Set: \")\n",
        "    \n",
        "    ##### TO DO ######\n",
        "\n",
        "    # Make predictions on the training set and evaluate using the 'metrics' function\n",
        "    train_predictions = best_model.predict(X_train)\n",
        "    metrics(train_predictions, y_train)\n",
        "    \n",
        "    ###### END #######\n",
        "    \n",
        "    print(\"-----------------------------------\")\n",
        "\n",
        "\n",
        "\n",
        "\n",
        "    print(\"Testing Set: \")\n",
        "    \n",
        "    ##### TO DO ######\n",
        "\n",
        "\n",
        "    # Make predictions on the testing set and evaluate using the 'metrics' function\n",
        "    test_predictions = best_model.predict(X_test)\n",
        "    metrics(test_predictions, y_test)\n",
        "\n",
        "    ###### END #######\n",
        "    \n",
        "    print(\"-----------------------------------\")\n",
        "\n",
        "\n",
        "    ###### TODO #######\n",
        "    \n",
        "    # Store best hyperparameters and results\n",
        "    best_hyperparams = grid_search.best_params_\n",
        "\n",
        "    # store results of grid search\n",
        "    results = grid_search.cv_results_\n",
        "\n",
        "    ###### END #######\n",
        "\n",
        "    #Print the Best Hyperparameters\n",
        "    print(\"Best Hyperparameters:\", best_hyperparams)\n",
        "\n",
        "    # Plotting f1-score vs Class Weight\n",
        "    params = results['params']\n",
        "    print(params)\n",
        "    mean_f1_scores = results['mean_test_score']\n",
        "\n",
        "    # Extract the parameter values and corresponding F1 scores\n",
        "    param_values = [param['class_weight'][0] for param in params]\n",
        "\n",
        "    # Plot the graph\n",
        "    plt.figure(figsize=(10, 6))\n",
        "    plt.plot(param_values, mean_f1_scores, marker='o', color='b', linestyle='-')\n",
        "\n",
        "    # Add labels and title\n",
        "    plt.xlabel('0 Class Weight')\n",
        "    plt.ylabel('Mean F1 Score')\n",
        "    plt.title('Grid Search Results:  F1 Score vs. Class Weight')\n",
        "\n",
        "    # Show grid and display the plot\n",
        "    plt.grid(True)\n",
        "    plt.show()"
      ]
    },
    {
      "cell_type": "markdown",
      "metadata": {
        "id": "GlASyxtccuE9"
      },
      "source": [
        "NOTE: Here is a sample notation for the hyperparameter `class_weight`:\n",
        "\n",
        "`{class1: weight1, class2: weight2}`\n",
        "\n",
        "`eg: [{class1: weight1, class2: weight2}, {class1: weight3, class2: weight4}....]`\n",
        "\n",
        "`where weight can be any positive number`\n",
        "\n",
        "You should have a collection / various combinations / list of these dictionaries of weights for each class in your param_grid for hyperparameter tuning.\n",
        "Be careful with your choice of weights keeping in mind which class deserves to have more weight.\n",
        "Then cross validate using the CrossValidate() function described earlier"
      ]
    },
    {
      "cell_type": "code",
      "execution_count": 38,
      "metadata": {
        "id": "KwWFWXbUiub_"
      },
      "outputs": [],
      "source": [
        "##### TO DO ######\n",
        "\n",
        "# Define the parameter grid for class_weight with custom weights\n",
        "# param_grid = {}\n",
        "param_grid = [\n",
        "    {'class_weight': [{0: 1, 1: 1}, {0: 1, 1: 2}, {0: 1, 1: 5}, {0: 1, 1: 10}, {0: 1, 1: 20}, {0: 2, 1: 1}, {0: 5, 1: 1}, {0: 10, 1: 1}, {0: 20, 1: 1}]},\n",
        "]\n",
        "\n",
        "###### END #######"
      ]
    },
    {
      "cell_type": "markdown",
      "metadata": {
        "id": "5R6hgn8JkO0e"
      },
      "source": [
        "##### **Ridge (TODO)**"
      ]
    },
    {
      "cell_type": "code",
      "execution_count": 39,
      "metadata": {
        "id": "cwUPhhiPj3gG"
      },
      "outputs": [
        {
          "name": "stdout",
          "output_type": "stream",
          "text": [
            "RIDGE: \n",
            "Fitting 5 folds for each of 9 candidates, totalling 45 fits\n",
            "Training Set: \n",
            "Accuracy:  0.9226519337016574\n",
            "Precision:  0.9226519337016573\n",
            "Recall:  1.0\n",
            "F1-score:  0.9597701149425287\n",
            "-----------------------------------\n",
            "Testing Set: \n",
            "Accuracy:  0.9226519337016574\n",
            "Precision:  0.9226519337016574\n",
            "Recall:  1.0\n",
            "F1-score:  0.9597701149425287\n",
            "-----------------------------------\n",
            "Best Hyperparameters: {'class_weight': {0: 1, 1: 1}}\n",
            "[{'class_weight': {0: 1, 1: 1}}, {'class_weight': {0: 1, 1: 2}}, {'class_weight': {0: 1, 1: 5}}, {'class_weight': {0: 1, 1: 10}}, {'class_weight': {0: 1, 1: 20}}, {'class_weight': {0: 2, 1: 1}}, {'class_weight': {0: 5, 1: 1}}, {'class_weight': {0: 10, 1: 1}}, {'class_weight': {0: 20, 1: 1}}]\n"
          ]
        },
        {
          "data": {
            "image/png": "[encoded data removed]",
            "text/plain": [
              "<Figure size 1000x600 with 1 Axes>"
            ]
          },
          "metadata": {},
          "output_type": "display_data"
        }
      ],
      "source": [
        "print(\"RIDGE: \")\n",
        "\n",
        "##### TO DO ######\n",
        "\n",
        "# Cross Validate using the CrossValidate() function with your Ridge Classifier which was defined earlier and the param_grid\n",
        "ridge_classifier = RidgeClassifier()\n",
        "CrossValidate(ridge_classifier, param_grid)\n",
        "\n",
        "###### END #######"
      ]
    },
    {
      "cell_type": "markdown",
      "metadata": {
        "id": "ehAJ-JPLkUo2"
      },
      "source": [
        "##### **Decision Tree (TODO)**"
      ]
    },
    {
      "cell_type": "code",
      "execution_count": 40,
      "metadata": {
        "id": "Z9YRTBm0j4kE"
      },
      "outputs": [
        {
          "name": "stdout",
          "output_type": "stream",
          "text": [
            "DECISION TREE: \n",
            "Fitting 5 folds for each of 9 candidates, totalling 45 fits\n"
          ]
        },
        {
          "name": "stdout",
          "output_type": "stream",
          "text": [
            "Training Set: \n",
            "Accuracy:  0.9956590370955012\n",
            "Precision:  0.9958897162836629\n",
            "Recall:  0.9956590370955012\n",
            "F1-score:  0.995713163043413\n",
            "-----------------------------------\n",
            "Testing Set: \n",
            "Accuracy:  0.8637200736648251\n",
            "Precision:  0.8591130707843415\n",
            "Recall:  0.8637200736648251\n",
            "F1-score:  0.8613997742004118\n",
            "-----------------------------------\n",
            "Best Hyperparameters: {'class_weight': {0: 10, 1: 1}}\n",
            "[{'class_weight': {0: 1, 1: 1}}, {'class_weight': {0: 1, 1: 2}}, {'class_weight': {0: 1, 1: 5}}, {'class_weight': {0: 1, 1: 10}}, {'class_weight': {0: 1, 1: 20}}, {'class_weight': {0: 2, 1: 1}}, {'class_weight': {0: 5, 1: 1}}, {'class_weight': {0: 10, 1: 1}}, {'class_weight': {0: 20, 1: 1}}]\n"
          ]
        },
        {
          "data": {
            "image/png": "[encoded data removed]",
            "text/plain": [
              "<Figure size 1000x600 with 1 Axes>"
            ]
          },
          "metadata": {},
          "output_type": "display_data"
        }
      ],
      "source": [
        "print(\"DECISION TREE: \")\n",
        "\n",
        "##### TO DO ######\n",
        "\n",
        "# Cross Validate your Decision Tree Classifier which was defined earlier using CrossValidate()\n",
        "decision_tree_classifier = DecisionTreeClassifier()\n",
        "CrossValidate(decision_tree_classifier, param_grid)\n",
        "\n",
        "###### END #######"
      ]
    },
    {
      "cell_type": "markdown",
      "metadata": {
        "id": "V3oJPvcAkYB0"
      },
      "source": [
        "##### **Support Vector (TODO)**"
      ]
    },
    {
      "cell_type": "code",
      "execution_count": 41,
      "metadata": {
        "id": "lndCaFN0j_r8"
      },
      "outputs": [
        {
          "name": "stdout",
          "output_type": "stream",
          "text": [
            "SVC: \n",
            "Fitting 5 folds for each of 9 candidates, totalling 45 fits\n",
            "Training Set: \n",
            "Accuracy:  0.9226519337016574\n",
            "Precision:  0.9226519337016573\n",
            "Recall:  1.0\n",
            "F1-score:  0.9597701149425287\n",
            "-----------------------------------\n",
            "Testing Set: \n",
            "Accuracy:  0.9226519337016574\n",
            "Precision:  0.9226519337016574\n",
            "Recall:  1.0\n",
            "F1-score:  0.9597701149425287\n",
            "-----------------------------------\n",
            "Best Hyperparameters: {'class_weight': {0: 1, 1: 1}}\n",
            "[{'class_weight': {0: 1, 1: 1}}, {'class_weight': {0: 1, 1: 2}}, {'class_weight': {0: 1, 1: 5}}, {'class_weight': {0: 1, 1: 10}}, {'class_weight': {0: 1, 1: 20}}, {'class_weight': {0: 2, 1: 1}}, {'class_weight': {0: 5, 1: 1}}, {'class_weight': {0: 10, 1: 1}}, {'class_weight': {0: 20, 1: 1}}]\n"
          ]
        },
        {
          "data": {
            "image/png": "[encoded data removed]",
            "text/plain": [
              "<Figure size 1000x600 with 1 Axes>"
            ]
          },
          "metadata": {},
          "output_type": "display_data"
        }
      ],
      "source": [
        "print(\"SVC: \")\n",
        "\n",
        "##### TO DO ######\n",
        "\n",
        "# Cross Validate your SVC which was defined earlier using CrossValidate()\n",
        "svc_classifier = SVC()\n",
        "CrossValidate(svc_classifier, param_grid)\n",
        "\n",
        "###### END #######"
      ]
    },
    {
      "cell_type": "markdown",
      "metadata": {
        "id": "xTO842tLpUha"
      },
      "source": [
        "### **Oversampling**"
      ]
    },
    {
      "cell_type": "markdown",
      "metadata": {
        "id": "7ZFl6uUJdm74"
      },
      "source": [
        "In this section we will explore various oversampling methods and observe the subsequent effects on the performance on our classifiers"
      ]
    },
    {
      "cell_type": "markdown",
      "metadata": {
        "id": "MTbJgeMapV55"
      },
      "source": [
        "####**Random oversampling**"
      ]
    },
    {
      "cell_type": "markdown",
      "metadata": {
        "id": "paHBOgUSpceo"
      },
      "source": [
        "Use the RandomOverSampler to resample the **Stratified training data** and test with Stratified testing data"
      ]
    },
    {
      "cell_type": "markdown",
      "metadata": {
        "id": "QJ39nJNPev1x"
      },
      "source": [
        "##### Initialize **(TODO)**"
      ]
    },
    {
      "cell_type": "code",
      "execution_count": 42,
      "metadata": {
        "colab": {
          "base_uri": "https://localhost:8080/",
          "height": 106
        },
        "id": "lMM3ZgDVpo59",
        "outputId": "3d06d323-244d-4f3c-8085-4ffb5ccb51f5"
      },
      "outputs": [],
      "source": [
        "##### TO DO ######\n",
        "\n",
        "# initialise RandomOverSampler\n",
        "ros = RandomOverSampler(random_state=42)\n",
        "\n",
        "# fit and assign\n",
        "X_resampled, y_resampled = ros.fit_resample(X_train_strat, y_train_strat)\n",
        "\n",
        "###### END #######"
      ]
    },
    {
      "cell_type": "markdown",
      "metadata": {
        "id": "Q2iIUek7s1f_"
      },
      "source": [
        "**Remember to use X_resampled, y_resampled for training and X_test_strat, y_test_strat for testing**"
      ]
    },
    {
      "cell_type": "markdown",
      "metadata": {
        "id": "9wTyR7S6eoMf"
      },
      "source": [
        "##### Refit Ridge Classifier **(TODO)**"
      ]
    },
    {
      "cell_type": "code",
      "execution_count": 43,
      "metadata": {
        "id": "ifsrWTyVp-Oh"
      },
      "outputs": [
        {
          "name": "stdout",
          "output_type": "stream",
          "text": [
            "Model Training Complete!\n",
            "-----------------------------------\n",
            "Ridge Classifier Evaluation Metrics\n",
            "-----------------------------------\n",
            "Training Set: \n",
            "Evaluation on Training Set:\n",
            "Accuracy:  0.7630453378956373\n",
            "Precision:  0.7695796651810322\n",
            "Recall:  0.7630453378956373\n",
            "F1-score:  0.7616007008864153\n",
            "-----------------------------------\n",
            "Testing Set: \n",
            "Evaluation on Testing Set:\n",
            "Accuracy:  0.8287292817679558\n",
            "Precision:  0.9179275961043917\n",
            "Recall:  0.8287292817679558\n",
            "F1-score:  0.861015987997942\n"
          ]
        }
      ],
      "source": [
        "##### TO DO ######\n",
        "\n",
        "# train and evaluate using TrainAndEvaluate() using Ridge Classifier defined earlier\n",
        "ridge_classifier = RidgeClassifier()\n",
        "TrainAndEvaluate(ridge_classifier, \"Ridge Classifier\", X_resampled, y_resampled, X_test_strat, y_test_strat)\n",
        "\n",
        "###### END #######"
      ]
    },
    {
      "cell_type": "markdown",
      "metadata": {
        "id": "V0YJjs3wfSWc"
      },
      "source": [
        "##### Refit Decision Tree Classifier **(TODO)**"
      ]
    },
    {
      "cell_type": "code",
      "execution_count": 44,
      "metadata": {
        "id": "qixmhHJjvxEJ"
      },
      "outputs": [
        {
          "name": "stdout",
          "output_type": "stream",
          "text": [
            "Model Training Complete!\n",
            "-----------------------------------\n",
            "Decision Tree Classifier Evaluation Metrics\n",
            "-----------------------------------\n",
            "Training Set: \n",
            "Evaluation on Training Set:\n",
            "Accuracy:  1.0\n",
            "Precision:  1.0\n",
            "Recall:  1.0\n",
            "F1-score:  1.0\n",
            "-----------------------------------\n",
            "Testing Set: \n",
            "Evaluation on Testing Set:\n",
            "Accuracy:  0.9732965009208103\n",
            "Precision:  0.9749061466264565\n",
            "Recall:  0.9732965009208103\n",
            "F1-score:  0.9739151699832032\n"
          ]
        }
      ],
      "source": [
        "##### TO DO ######\n",
        "\n",
        "# train and evaluate using TrainAndEvaluate()  using DT Classifier defined earlier\n",
        "decision_tree_classifier = DecisionTreeClassifier()\n",
        "TrainAndEvaluate(decision_tree_classifier, \"Decision Tree Classifier\", X_resampled, y_resampled, X_test_strat, y_test_strat)\n",
        "\n",
        "###### END #######"
      ]
    },
    {
      "cell_type": "markdown",
      "metadata": {
        "id": "kIwBE4UZfhV_"
      },
      "source": [
        "##### Refit SVC **(TODO)**"
      ]
    },
    {
      "cell_type": "code",
      "execution_count": 45,
      "metadata": {
        "id": "l7-Ovi6WyDU0"
      },
      "outputs": [
        {
          "name": "stdout",
          "output_type": "stream",
          "text": [
            "Model Training Complete!\n",
            "-----------------------------------\n",
            "SVC Evaluation Metrics\n",
            "-----------------------------------\n",
            "Training Set: \n",
            "Evaluation on Training Set:\n",
            "Accuracy:  0.7840034217279727\n",
            "Precision:  0.7967193349831843\n",
            "Recall:  0.7840034217279727\n",
            "F1-score:  0.781664225693828\n",
            "-----------------------------------\n",
            "Testing Set: \n",
            "Evaluation on Testing Set:\n",
            "Accuracy:  0.8674033149171271\n",
            "Precision:  0.9195699767574\n",
            "Recall:  0.8674033149171271\n",
            "F1-score:  0.8871483523454712\n"
          ]
        }
      ],
      "source": [
        "##### TO DO ######\n",
        "\n",
        "# train and evaluate using TrainAndEvaluate() using SV Classifier defined earlier\n",
        "svc_classifier = SVC()\n",
        "TrainAndEvaluate(svc_classifier, \"SVC\", X_resampled, y_resampled, X_test_strat, y_test_strat)\n",
        "\n",
        "###### END #######"
      ]
    },
    {
      "cell_type": "markdown",
      "metadata": {
        "id": "_ulvfpcKyRDh"
      },
      "source": [
        "####**SMOTE**"
      ]
    },
    {
      "cell_type": "markdown",
      "metadata": {
        "id": "mcaFOLE9f3Vy"
      },
      "source": [
        "Use SMOTE to resample the **Stratified training data** and test with Stratified testing data"
      ]
    },
    {
      "cell_type": "markdown",
      "metadata": {
        "id": "k-tnE4N3gqlC"
      },
      "source": [
        "##### Initialize"
      ]
    },
    {
      "cell_type": "code",
      "execution_count": 46,
      "metadata": {
        "id": "F1o04ZCw0S1F"
      },
      "outputs": [],
      "source": [
        "##### TO DO ######\n",
        "\n",
        "# initialise, fit and assign\n",
        "smote = SMOTE(random_state=42)\n",
        "X_resampled, y_resampled = smote.fit_resample(X_train_strat, y_train_strat)\n",
        "\n",
        "###### END #######"
      ]
    },
    {
      "cell_type": "markdown",
      "metadata": {
        "id": "fkeRfX1GtWkz"
      },
      "source": [
        "**Remember to use X_resampled, y_resampled for training and X_test_strat, y_test_strat for testing**"
      ]
    },
    {
      "cell_type": "markdown",
      "metadata": {
        "id": "j2Mc5QaJgtmX"
      },
      "source": [
        "##### Refit Ridge Classifier **(TODO)**"
      ]
    },
    {
      "cell_type": "code",
      "execution_count": 47,
      "metadata": {
        "id": "ZGr3rHU9gOQc"
      },
      "outputs": [
        {
          "name": "stdout",
          "output_type": "stream",
          "text": [
            "Model Training Complete!\n",
            "-----------------------------------\n",
            "Ridge Classifier with SMOTE Evaluation Metrics\n",
            "-----------------------------------\n",
            "Training Set: \n",
            "Evaluation on Training Set:\n",
            "Accuracy:  0.7737382378100941\n",
            "Precision:  0.7813272497418585\n",
            "Recall:  0.7737382378100941\n",
            "F1-score:  0.7722019825468102\n",
            "-----------------------------------\n",
            "Testing Set: \n",
            "Evaluation on Testing Set:\n",
            "Accuracy:  0.8443830570902394\n",
            "Precision:  0.9121572332156201\n",
            "Recall:  0.8443830570902394\n",
            "F1-score:  0.8702688508409085\n"
          ]
        }
      ],
      "source": [
        "##### TO DO ######\n",
        "\n",
        "# train and evaluate using TrainAndEvaluate() using Ridge Classifier defined earlier\n",
        "ridge_classifier_smote = RidgeClassifier()\n",
        "TrainAndEvaluate(ridge_classifier_smote, \"Ridge Classifier with SMOTE\", X_resampled, y_resampled, X_test_strat, y_test_strat)\n",
        "\n",
        "###### END #######"
      ]
    },
    {
      "cell_type": "markdown",
      "metadata": {
        "id": "cstkOGDugx0r"
      },
      "source": [
        "##### Refit DT Classifier **(TODO)**"
      ]
    },
    {
      "cell_type": "code",
      "execution_count": 48,
      "metadata": {
        "id": "3WAVzA4BgTne"
      },
      "outputs": [
        {
          "name": "stdout",
          "output_type": "stream",
          "text": [
            "Model Training Complete!\n",
            "-----------------------------------\n",
            "Decision Tree Classifier with SMOTE Evaluation Metrics\n",
            "-----------------------------------\n",
            "Training Set: \n",
            "Evaluation on Training Set:\n",
            "Accuracy:  1.0\n",
            "Precision:  1.0\n",
            "Recall:  1.0\n",
            "F1-score:  1.0\n",
            "-----------------------------------\n",
            "Testing Set: \n",
            "Evaluation on Testing Set:\n",
            "Accuracy:  0.9760589318600368\n"
          ]
        },
        {
          "name": "stdout",
          "output_type": "stream",
          "text": [
            "Precision:  0.9777479267548166\n",
            "Recall:  0.9760589318600368\n",
            "F1-score:  0.9766714010054247\n"
          ]
        }
      ],
      "source": [
        "##### TO DO ######\n",
        "\n",
        "# train and evaluate using TrainAndEvaluate() using DT Classifier defined earlier\n",
        "decision_tree_classifier_smote = DecisionTreeClassifier()\n",
        "TrainAndEvaluate(decision_tree_classifier_smote, \"Decision Tree Classifier with SMOTE\", X_resampled, y_resampled, X_test_strat, y_test_strat)\n",
        "\n",
        "###### END #######"
      ]
    },
    {
      "cell_type": "markdown",
      "metadata": {
        "id": "2rjVC3Zeg0JX"
      },
      "source": [
        "##### Refit SVC **(TODO)**"
      ]
    },
    {
      "cell_type": "code",
      "execution_count": 49,
      "metadata": {
        "id": "mUyQfox8gZM8"
      },
      "outputs": [
        {
          "name": "stdout",
          "output_type": "stream",
          "text": [
            "Model Training Complete!\n",
            "-----------------------------------\n",
            "SVC with SMOTE Evaluation Metrics\n",
            "-----------------------------------\n",
            "Training Set: \n",
            "Evaluation on Training Set:\n",
            "Accuracy:  0.7869974337040205\n",
            "Precision:  0.8016926192906598\n",
            "Recall:  0.7869974337040205\n",
            "F1-score:  0.784371666469124\n",
            "-----------------------------------\n",
            "Testing Set: \n",
            "Evaluation on Testing Set:\n",
            "Accuracy:  0.8766114180478821\n",
            "Precision:  0.9181753789488596\n",
            "Recall:  0.8766114180478821\n",
            "F1-score:  0.8928205392173685\n"
          ]
        }
      ],
      "source": [
        "##### TO DO ######\n",
        "\n",
        "# train and evaluate using TrainAndEvaluate() using SV Classifier defined earlier\n",
        "svc_classifier_smote = SVC()\n",
        "TrainAndEvaluate(svc_classifier_smote, \"SVC with SMOTE\", X_resampled, y_resampled, X_test_strat, y_test_strat)\n",
        "\n",
        "###### END #######"
      ]
    },
    {
      "cell_type": "markdown",
      "metadata": {
        "id": "bM-Enh2Vg5to"
      },
      "source": [
        "####**ADASYN**"
      ]
    },
    {
      "cell_type": "markdown",
      "metadata": {
        "id": "TT5zGz7hg5t1"
      },
      "source": [
        "Use ADASYN to resample the **Stratified training data** and test with Stratified testing data"
      ]
    },
    {
      "cell_type": "markdown",
      "metadata": {
        "id": "Z1R-j8Q8g5t1"
      },
      "source": [
        "##### Initialize"
      ]
    },
    {
      "cell_type": "code",
      "execution_count": 50,
      "metadata": {
        "id": "ToJtl_Pmg5t1"
      },
      "outputs": [],
      "source": [
        "##### TO DO ######\n",
        "\n",
        "# initialise, fit and assign\n",
        "adasyn = ADASYN(random_state=42)\n",
        "X_resampled_adasyn, y_resampled_adasyn = adasyn.fit_resample(X_train_strat, y_train_strat)\n",
        "\n",
        "###### END #######"
      ]
    },
    {
      "cell_type": "markdown",
      "metadata": {
        "id": "03PdVZgRt5Uo"
      },
      "source": [
        "**Remember to use X_resampled, y_resampled for training and X_test_strat, y_test_strat for testing**"
      ]
    },
    {
      "cell_type": "markdown",
      "metadata": {
        "id": "7aWwlOGIg5t1"
      },
      "source": [
        "##### Refit Ridge Classifier **(TODO)**"
      ]
    },
    {
      "cell_type": "code",
      "execution_count": 51,
      "metadata": {
        "id": "KWZCxKrmg5t1"
      },
      "outputs": [
        {
          "name": "stdout",
          "output_type": "stream",
          "text": [
            "Model Training Complete!\n",
            "-----------------------------------\n",
            "Ridge Classifier with ADASYN Evaluation Metrics\n",
            "-----------------------------------\n",
            "Training Set: \n",
            "Evaluation on Training Set:\n",
            "Accuracy:  0.7791199309749784\n",
            "Precision:  0.7807030252270796\n",
            "Recall:  0.7791199309749784\n",
            "F1-score:  0.7787037415389515\n",
            "-----------------------------------\n",
            "Testing Set: \n",
            "Evaluation on Testing Set:\n",
            "Accuracy:  0.8195211786372008\n",
            "Precision:  0.9214659822629729\n",
            "Recall:  0.8195211786372008\n",
            "F1-score:  0.8553521711901086\n"
          ]
        }
      ],
      "source": [
        "##### TO DO ######\n",
        "\n",
        "# train and evaluate using TrainAndEvaluate() using Ridge Classifier defined earlier\n",
        "ridge_classifier_adasyn = RidgeClassifier()\n",
        "TrainAndEvaluate(ridge_classifier_adasyn, \"Ridge Classifier with ADASYN\", X_resampled_adasyn, y_resampled_adasyn, X_test_strat, y_test_strat)\n",
        "\n",
        "###### END #######"
      ]
    },
    {
      "cell_type": "markdown",
      "metadata": {
        "id": "cyPDIE1Og5t1"
      },
      "source": [
        "##### Refit DT Classifier **(TODO)**"
      ]
    },
    {
      "cell_type": "code",
      "execution_count": 52,
      "metadata": {
        "id": "f_FxI3Sqg5t1"
      },
      "outputs": [
        {
          "name": "stdout",
          "output_type": "stream",
          "text": [
            "Model Training Complete!\n",
            "-----------------------------------\n",
            "Decision Tree Classifier with ADASYN Evaluation Metrics\n",
            "-----------------------------------\n",
            "Training Set: \n",
            "Evaluation on Training Set:\n",
            "Accuracy:  1.0\n",
            "Precision:  1.0\n",
            "Recall:  1.0\n",
            "F1-score:  1.0\n",
            "-----------------------------------\n",
            "Testing Set: \n",
            "Evaluation on Testing Set:\n",
            "Accuracy:  0.9696132596685083\n",
            "Precision:  0.9723305969814454\n",
            "Recall:  0.9696132596685083\n",
            "F1-score:  0.9706052928787278\n"
          ]
        }
      ],
      "source": [
        "##### TO DO ######\n",
        "\n",
        "# train and evaluate using TrainAndEvaluate() using DT Classifier defined earlier\n",
        "decision_tree_classifier_adasyn = DecisionTreeClassifier()\n",
        "TrainAndEvaluate(decision_tree_classifier_adasyn, \"Decision Tree Classifier with ADASYN\", X_resampled_adasyn, y_resampled_adasyn, X_test_strat, y_test_strat)\n",
        "\n",
        "###### END #######"
      ]
    },
    {
      "cell_type": "markdown",
      "metadata": {
        "id": "F-EABW2-g5t2"
      },
      "source": [
        "##### Refit SVC **(TODO)**"
      ]
    },
    {
      "cell_type": "code",
      "execution_count": 53,
      "metadata": {
        "id": "JqHMOOn5g5t2"
      },
      "outputs": [
        {
          "name": "stdout",
          "output_type": "stream",
          "text": [
            "Model Training Complete!\n",
            "-----------------------------------\n",
            "SVC with ADASYN Evaluation Metrics\n",
            "-----------------------------------\n",
            "Training Set: \n",
            "Evaluation on Training Set:\n",
            "Accuracy:  0.7670405522001725\n",
            "Precision:  0.7679508069967804\n",
            "Recall:  0.7670405522001725\n",
            "F1-score:  0.7667529061271268\n",
            "-----------------------------------\n",
            "Testing Set: \n",
            "Evaluation on Testing Set:\n",
            "Accuracy:  0.7900552486187845\n",
            "Precision:  0.9169550969559095\n",
            "Recall:  0.7900552486187845\n",
            "F1-score:  0.8344704776686115\n"
          ]
        }
      ],
      "source": [
        "##### TO DO ######\n",
        "\n",
        "# train and evaluate using TrainAndEvaluate() using SV Classifier defined earlier\n",
        "svc_classifier_adasyn = SVC()\n",
        "TrainAndEvaluate(svc_classifier_adasyn, \"SVC with ADASYN\", X_resampled_adasyn, y_resampled_adasyn, X_test_strat, y_test_strat)\n",
        "\n",
        "###### END #######"
      ]
    }
  ],
  "metadata": {
    "colab": {
      "collapsed_sections": [
        "ZFTQx9uC2a3V",
        "3Cc0iQX5Rx_A",
        "7CTGCN4-Qt11",
        "xTO842tLpUha"
      ],
      "provenance": []
    },
    "kernelspec": {
      "display_name": "Python 3",
      "name": "python3"
    },
    "language_info": {
      "codemirror_mode": {
        "name": "ipython",
        "version": 3
      },
      "file_extension": ".py",
      "mimetype": "text/x-python",
      "name": "python",
      "nbconvert_exporter": "python",
      "pygments_lexer": "ipython3",
      "version": "3.11.8"
    }
  },
  "nbformat": 4,
  "nbformat_minor": 0
}
